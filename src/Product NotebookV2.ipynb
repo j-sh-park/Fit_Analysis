{
 "cells": [
  {
   "cell_type": "markdown",
   "metadata": {},
   "source": [
    "# Product Notebook"
   ]
  },
  {
   "cell_type": "markdown",
   "metadata": {},
   "source": [
    "In this notebook we are exploring 2 driving questions\n",
    "- Did I achieve my goal of X steps more in the last 12 months than the 12 months before that?\n",
    "- Do I have more steps on average during the weekend in comparison to a weekday?\n",
    "\n",
    "In order to answer these questions we will be using datasets from 2 different people."
   ]
  },
  {
   "cell_type": "markdown",
   "metadata": {},
   "source": [
    "Note, the following parts of code was formatted and compiled from the following process notebooks:\n",
    "\n",
    "Q1 EDA: https://github.sydney.edu.au/YHOW4819/2021-DATA3406-PRAC07-Group04/blob/master/src/EDA%20week%207/Week08_GerryHow_DATA3406_EDA.ipynb\n",
    "\n",
    "Q1 Generator Functions: https://github.sydney.edu.au/YHOW4819/2021-DATA3406-PRAC07-Group04/blob/master/src/Week%209/12%20month%20exploration.ipynb\n",
    "\n",
    "Q1 Plots: https://github.sydney.edu.au/YHOW4819/2021-DATA3406-PRAC07-Group04/blob/master/src/Week%2010/Results%20plotting.ipynb\n",
    "\n",
    "Q2 All Code: https://github.sydney.edu.au/YHOW4819/2021-DATA3406-PRAC07-Group04/blob/master/src/Week11%20-%20James%20Park.ipynb"
   ]
  },
  {
   "cell_type": "markdown",
   "metadata": {},
   "source": [
    "#  Import required libraries"
   ]
  },
  {
   "cell_type": "code",
   "execution_count": 2,
   "metadata": {},
   "outputs": [],
   "source": [
    "import pandas as pd\n",
    "import os\n",
    "import matplotlib.pyplot as plt\n",
    "from datetime import datetime, timedelta\n",
    "import numpy as np\n",
    "from mayavi import mlab\n",
    "from mpl_toolkits.mplot3d import Axes3D\n",
    "from matplotlib.pyplot import cm\n",
    "import matplotlib.patches as mpatches\n",
    "mlab.init_notebook()"
   ]
  },
  {
   "cell_type": "markdown",
   "metadata": {},
   "source": [
    "# First read in data and clean data"
   ]
  },
  {
   "cell_type": "markdown",
   "metadata": {
    "id": "hdK_yeomtCp1"
   },
   "source": [
    "Read in datasets using pandas\n"
   ]
  },
  {
   "cell_type": "code",
   "execution_count": 4,
   "metadata": {
    "id": "O9q5gXtOkEVD"
   },
   "outputs": [],
   "source": [
    "df1_raw = pd.read_csv('person1-step-data.csv')\n",
    "df2_raw = pd.read_csv('person2-step-data.csv')"
   ]
  },
  {
   "cell_type": "markdown",
   "metadata": {
    "id": "VM3z8QO8tKGa"
   },
   "source": [
    "Check columns and their types, we can see that `Date` is still in str"
   ]
  },
  {
   "cell_type": "code",
   "execution_count": 5,
   "metadata": {
    "colab": {
     "base_uri": "https://localhost:8080/"
    },
    "id": "92i9U5RdmjgX",
    "outputId": "a5ec3896-ed0a-4197-d76b-6d6a53048df1"
   },
   "outputs": [
    {
     "name": "stdout",
     "output_type": "stream",
     "text": [
      "Person 1 dtypes\n",
      "Source    object\n",
      "Date      object\n",
      "Hour       int64\n",
      "Count      int64\n",
      "dtype: object\n",
      "\n",
      "Person 2 dtypes\n",
      "Source    object\n",
      "Date      object\n",
      "Hour       int64\n",
      "Count      int64\n",
      "dtype: object\n"
     ]
    }
   ],
   "source": [
    "print('Person 1 dtypes')\n",
    "print(df1_raw.dtypes)\n",
    "print('\\nPerson 2 dtypes')\n",
    "print(df2_raw.dtypes)"
   ]
  },
  {
   "cell_type": "markdown",
   "metadata": {
    "id": "89E0zMXDtUT2"
   },
   "source": [
    "Convert columns to correct data type and drop missing values"
   ]
  },
  {
   "cell_type": "code",
   "execution_count": 6,
   "metadata": {
    "id": "Jv0wVQhtlRuj"
   },
   "outputs": [],
   "source": [
    "df1 = df1_raw.dropna()\n",
    "df2 = df2_raw.dropna()\n",
    "df1['Date'] = pd.to_datetime(df1['Date'])\n",
    "df2['Date'] = pd.to_datetime(df2['Date'])"
   ]
  },
  {
   "cell_type": "markdown",
   "metadata": {},
   "source": [
    "# Exploratory Analysis"
   ]
  },
  {
   "cell_type": "markdown",
   "metadata": {
    "id": "0hp7tPLTuAMq"
   },
   "source": [
    "Now we can explore the data, here we check number of \n",
    "- rows and columns\n",
    "- unique number of sources step counts were gathered from\n",
    "- start and end of data collection\n",
    "- number of days where data is present\n",
    "- quick check for the `hour` column"
   ]
  },
  {
   "cell_type": "code",
   "execution_count": 7,
   "metadata": {
    "id": "XUJ-AW3WjR93"
   },
   "outputs": [],
   "source": [
    "def summary(df):\n",
    "    print(f\"df shape: {df.shape}\")\n",
    "    print(f\"Sources include {df['Source'].unique()}\")\n",
    "    print(f\"First day: {df['Date'].min()}\")\n",
    "    print(f\"Last day: {df['Date'].max()}\")\n",
    "    print(f\"Number of days: {len(df['Date'].unique())}\")\n",
    "    print(f\"First hour: {df['Hour'].min()}\")\n",
    "    print(f\"Last hour: {df['Hour'].max()}\")"
   ]
  },
  {
   "cell_type": "code",
   "execution_count": 8,
   "metadata": {
    "colab": {
     "base_uri": "https://localhost:8080/"
    },
    "id": "-Ay3ZlMOmyVN",
    "outputId": "7b553671-adf3-4ec1-d5d7-039625038812"
   },
   "outputs": [
    {
     "name": "stdout",
     "output_type": "stream",
     "text": [
      "df shape: (183787, 4)\n",
      "Sources include ['Person1 iPhone SE' 'Person1 Mi Fit' 'Person1 Misfit'\n",
      " 'Person1 Health Mate' 'Person1 Apple\\xa0Watch']\n",
      "First day: 2014-12-07 00:00:00\n",
      "Last day: 2021-09-22 00:00:00\n",
      "Number of days: 2295\n",
      "First hour: 0\n",
      "Last hour: 23\n"
     ]
    }
   ],
   "source": [
    "summary(df1)"
   ]
  },
  {
   "cell_type": "code",
   "execution_count": 9,
   "metadata": {
    "colab": {
     "base_uri": "https://localhost:8080/"
    },
    "id": "ZMeMgHQBm63r",
    "outputId": "046e36fe-96f5-475d-ddce-9b3af245783a",
    "scrolled": true
   },
   "outputs": [
    {
     "name": "stdout",
     "output_type": "stream",
     "text": [
      "df shape: (486259, 4)\n",
      "Sources include ['Person2 Phone' 'Person2 Watch']\n",
      "First day: 2014-11-29 00:00:00\n",
      "Last day: 2021-09-22 00:00:00\n",
      "Number of days: 2490\n",
      "First hour: 0\n",
      "Last hour: 23\n"
     ]
    }
   ],
   "source": [
    "summary(df2)"
   ]
  },
  {
   "cell_type": "markdown",
   "metadata": {
    "id": "8jpUWJ7gujLs"
   },
   "source": [
    "Interestingly enough `person 2` only has two sources of data whereas `person one` has 5\n",
    "`Person 1` started recording 9 days later, but has 195 fewer days recorded"
   ]
  },
  {
   "cell_type": "markdown",
   "metadata": {},
   "source": [
    "We now create a dummy dataset of constant step counts for each day and collumns for 'Day of Week' and 'Is Weekday' so we can test both driving questions."
   ]
  },
  {
   "cell_type": "code",
   "execution_count": 52,
   "metadata": {},
   "outputs": [
    {
     "data": {
      "text/html": [
       "<div>\n",
       "<style scoped>\n",
       "    .dataframe tbody tr th:only-of-type {\n",
       "        vertical-align: middle;\n",
       "    }\n",
       "\n",
       "    .dataframe tbody tr th {\n",
       "        vertical-align: top;\n",
       "    }\n",
       "\n",
       "    .dataframe thead th {\n",
       "        text-align: right;\n",
       "    }\n",
       "</style>\n",
       "<table border=\"1\" class=\"dataframe\">\n",
       "  <thead>\n",
       "    <tr style=\"text-align: right;\">\n",
       "      <th></th>\n",
       "      <th>Date</th>\n",
       "      <th>Count</th>\n",
       "      <th>Day of Week</th>\n",
       "      <th>Is Weekday</th>\n",
       "    </tr>\n",
       "  </thead>\n",
       "  <tbody>\n",
       "    <tr>\n",
       "      <th>0</th>\n",
       "      <td>2014-12-07</td>\n",
       "      <td>5000</td>\n",
       "      <td>6</td>\n",
       "      <td>False</td>\n",
       "    </tr>\n",
       "    <tr>\n",
       "      <th>1</th>\n",
       "      <td>2014-12-08</td>\n",
       "      <td>5000</td>\n",
       "      <td>0</td>\n",
       "      <td>True</td>\n",
       "    </tr>\n",
       "    <tr>\n",
       "      <th>2</th>\n",
       "      <td>2014-12-09</td>\n",
       "      <td>5000</td>\n",
       "      <td>1</td>\n",
       "      <td>True</td>\n",
       "    </tr>\n",
       "    <tr>\n",
       "      <th>3</th>\n",
       "      <td>2014-12-10</td>\n",
       "      <td>5000</td>\n",
       "      <td>2</td>\n",
       "      <td>True</td>\n",
       "    </tr>\n",
       "    <tr>\n",
       "      <th>4</th>\n",
       "      <td>2014-12-11</td>\n",
       "      <td>5000</td>\n",
       "      <td>3</td>\n",
       "      <td>True</td>\n",
       "    </tr>\n",
       "    <tr>\n",
       "      <th>...</th>\n",
       "      <td>...</td>\n",
       "      <td>...</td>\n",
       "      <td>...</td>\n",
       "      <td>...</td>\n",
       "    </tr>\n",
       "    <tr>\n",
       "      <th>2476</th>\n",
       "      <td>2021-09-17</td>\n",
       "      <td>5000</td>\n",
       "      <td>4</td>\n",
       "      <td>True</td>\n",
       "    </tr>\n",
       "    <tr>\n",
       "      <th>2477</th>\n",
       "      <td>2021-09-18</td>\n",
       "      <td>5000</td>\n",
       "      <td>5</td>\n",
       "      <td>False</td>\n",
       "    </tr>\n",
       "    <tr>\n",
       "      <th>2478</th>\n",
       "      <td>2021-09-19</td>\n",
       "      <td>5000</td>\n",
       "      <td>6</td>\n",
       "      <td>False</td>\n",
       "    </tr>\n",
       "    <tr>\n",
       "      <th>2479</th>\n",
       "      <td>2021-09-20</td>\n",
       "      <td>5000</td>\n",
       "      <td>0</td>\n",
       "      <td>True</td>\n",
       "    </tr>\n",
       "    <tr>\n",
       "      <th>2480</th>\n",
       "      <td>2021-09-21</td>\n",
       "      <td>5000</td>\n",
       "      <td>1</td>\n",
       "      <td>True</td>\n",
       "    </tr>\n",
       "  </tbody>\n",
       "</table>\n",
       "<p>2481 rows × 4 columns</p>\n",
       "</div>"
      ],
      "text/plain": [
       "           Date  Count  Day of Week  Is Weekday\n",
       "0    2014-12-07   5000            6       False\n",
       "1    2014-12-08   5000            0        True\n",
       "2    2014-12-09   5000            1        True\n",
       "3    2014-12-10   5000            2        True\n",
       "4    2014-12-11   5000            3        True\n",
       "...         ...    ...          ...         ...\n",
       "2476 2021-09-17   5000            4        True\n",
       "2477 2021-09-18   5000            5       False\n",
       "2478 2021-09-19   5000            6       False\n",
       "2479 2021-09-20   5000            0        True\n",
       "2480 2021-09-21   5000            1        True\n",
       "\n",
       "[2481 rows x 4 columns]"
      ]
     },
     "execution_count": 52,
     "metadata": {},
     "output_type": "execute_result"
    }
   ],
   "source": [
    "test_df = pd.DataFrame({'Date':np.arange(df1['Date'].min(), df1['Date'].max(), timedelta(days=1)).astype(datetime)})\n",
    "test_df['Count'] = 5000\n",
    "\n",
    "#add Day of the Week column\n",
    "def gen_dayofweek(row):\n",
    "    return row['Date'].weekday()\n",
    "test_df['Day of Week'] = test_df.apply(gen_dayofweek, axis=1)\n",
    "#add Is Weekday column\n",
    "def gen_isweekday(row):\n",
    "    if row['Day of Week'] < 5:\n",
    "        return True\n",
    "    else:\n",
    "        return False\n",
    "test_df['Is Weekday'] = test_df.apply(gen_isweekday, axis=1)\n",
    "\n",
    "test_df"
   ]
  },
  {
   "cell_type": "markdown",
   "metadata": {},
   "source": [
    "Now we create visualisations to understand the dataset better"
   ]
  },
  {
   "cell_type": "code",
   "execution_count": 11,
   "metadata": {
    "colab": {
     "base_uri": "https://localhost:8080/",
     "height": 244
    },
    "id": "ILg_nm4YoLib",
    "outputId": "09efcf79-a33f-4d6b-a3d4-c939b95e748a"
   },
   "outputs": [],
   "source": [
    "def daily_steps(df):\n",
    "    # Define plot params\n",
    "    plt.rcParams[\"figure.figsize\"] = (20,3)\n",
    "    fig, (ax1, ax2) = plt.subplots(1, 2)\n",
    "    \n",
    "    # Set sub-plot titles\n",
    "    ax1.set_title('Number of steps over time')\n",
    "    ax2.set_title('Distribution of steps')\n",
    "    plt.figure(figsize=(8, 6), dpi=80)\n",
    "    df = df.groupby('Date').sum()\n",
    "    # Create plots\n",
    "    ax1.plot(df['Count'])\n",
    "    ax2.boxplot(df['Count'])"
   ]
  },
  {
   "cell_type": "code",
   "execution_count": 12,
   "metadata": {},
   "outputs": [
    {
     "data": {
      "image/png": "[encoded data removed]",
      "text/plain": [
       "<Figure size 1440x216 with 2 Axes>"
      ]
     },
     "metadata": {
      "needs_background": "light"
     },
     "output_type": "display_data"
    },
    {
     "data": {
      "text/plain": [
       "<Figure size 640x480 with 0 Axes>"
      ]
     },
     "metadata": {},
     "output_type": "display_data"
    }
   ],
   "source": [
    "daily_steps(test_df)"
   ]
  },
  {
   "cell_type": "markdown",
   "metadata": {},
   "source": [
    "As expected the plots are flat because the dataset is constant."
   ]
  },
  {
   "cell_type": "markdown",
   "metadata": {},
   "source": [
    "Now we'll check the frequency of days in the test data."
   ]
  },
  {
   "cell_type": "code",
   "execution_count": 54,
   "metadata": {},
   "outputs": [
    {
     "data": {
      "text/html": [
       "<div>\n",
       "<style scoped>\n",
       "    .dataframe tbody tr th:only-of-type {\n",
       "        vertical-align: middle;\n",
       "    }\n",
       "\n",
       "    .dataframe tbody tr th {\n",
       "        vertical-align: top;\n",
       "    }\n",
       "\n",
       "    .dataframe thead th {\n",
       "        text-align: right;\n",
       "    }\n",
       "</style>\n",
       "<table border=\"1\" class=\"dataframe\">\n",
       "  <thead>\n",
       "    <tr style=\"text-align: right;\">\n",
       "      <th></th>\n",
       "      <th>Day</th>\n",
       "      <th>Count</th>\n",
       "    </tr>\n",
       "  </thead>\n",
       "  <tbody>\n",
       "    <tr>\n",
       "      <th>0</th>\n",
       "      <td>0</td>\n",
       "      <td>355</td>\n",
       "    </tr>\n",
       "    <tr>\n",
       "      <th>1</th>\n",
       "      <td>1</td>\n",
       "      <td>355</td>\n",
       "    </tr>\n",
       "    <tr>\n",
       "      <th>2</th>\n",
       "      <td>2</td>\n",
       "      <td>354</td>\n",
       "    </tr>\n",
       "    <tr>\n",
       "      <th>3</th>\n",
       "      <td>3</td>\n",
       "      <td>354</td>\n",
       "    </tr>\n",
       "    <tr>\n",
       "      <th>4</th>\n",
       "      <td>4</td>\n",
       "      <td>354</td>\n",
       "    </tr>\n",
       "    <tr>\n",
       "      <th>5</th>\n",
       "      <td>5</td>\n",
       "      <td>354</td>\n",
       "    </tr>\n",
       "    <tr>\n",
       "      <th>6</th>\n",
       "      <td>6</td>\n",
       "      <td>355</td>\n",
       "    </tr>\n",
       "  </tbody>\n",
       "</table>\n",
       "</div>"
      ],
      "text/plain": [
       "  Day  Count\n",
       "0   0    355\n",
       "1   1    355\n",
       "2   2    354\n",
       "3   3    354\n",
       "4   4    354\n",
       "5   5    354\n",
       "6   6    355"
      ]
     },
     "execution_count": 54,
     "metadata": {},
     "output_type": "execute_result"
    }
   ],
   "source": [
    "#create empty list to store frequency of each day of the week data for test data\n",
    "test_freq = []\n",
    "#group by day of week\n",
    "gtest_df = test_df.groupby('Day of Week')\n",
    "#get keys for each group to loop through for both data sets\n",
    "test_keys = gtest_df.groups.keys()\n",
    "#loop through each group for person1, counting the number of days recorded\n",
    "for i in test_keys:\n",
    "    test_freq.append([str(i), gtest_df.get_group(i)['Date'].count()])\n",
    "#create DataFrames from the now populated lists: day_freq1, day_freq2\n",
    "test_freqdf = pd.DataFrame(test_freq, columns=['Day', 'Count'])\n",
    "test_freqdf"
   ]
  },
  {
   "cell_type": "markdown",
   "metadata": {},
   "source": [
    "As we can see from the table above, the data is as expected with a difference of only 1 for the frequency of days."
   ]
  },
  {
   "cell_type": "code",
   "execution_count": 55,
   "metadata": {},
   "outputs": [
    {
     "data": {
      "image/png": "[encoded data removed]",
      "text/plain": [
       "<Figure size 1440x216 with 2 Axes>"
      ]
     },
     "metadata": {
      "needs_background": "light"
     },
     "output_type": "display_data"
    },
    {
     "data": {
      "text/plain": [
       "<Figure size 640x480 with 0 Axes>"
      ]
     },
     "metadata": {},
     "output_type": "display_data"
    }
   ],
   "source": [
    "daily_steps(df1)"
   ]
  },
  {
   "cell_type": "code",
   "execution_count": 14,
   "metadata": {
    "colab": {
     "base_uri": "https://localhost:8080/",
     "height": 244
    },
    "id": "JD_NC8KpqGxs",
    "outputId": "559f70a7-c64e-48b9-f574-331e7fb90e87"
   },
   "outputs": [
    {
     "data": {
      "image/png": "[encoded data removed]",
      "text/plain": [
       "<Figure size 1440x216 with 2 Axes>"
      ]
     },
     "metadata": {
      "needs_background": "light"
     },
     "output_type": "display_data"
    },
    {
     "data": {
      "text/plain": [
       "<Figure size 640x480 with 0 Axes>"
      ]
     },
     "metadata": {},
     "output_type": "display_data"
    }
   ],
   "source": [
    "daily_steps(df2)"
   ]
  },
  {
   "cell_type": "markdown",
   "metadata": {},
   "source": [
    "Interestingly, there are a few days from both datasets where the respondent walked an incredible amount of steps, in some cases up to 90 thousand, we will remove days with more than 40000 steps and treat them as outliers"
   ]
  },
  {
   "cell_type": "code",
   "execution_count": 15,
   "metadata": {},
   "outputs": [],
   "source": [
    "def clean_raw_df(df):\n",
    "    # Convert date column to datetime\n",
    "    df['Date'] = pd.to_datetime(df['Date'])\n",
    "    # Aggregate data into days\n",
    "    df = df.groupby('Date').sum().reset_index()\n",
    "    # Remove days with more than 40000 steps\n",
    "    df[df['Count'] < 40000]\n",
    "    return df\n",
    "\n",
    "cleaned_1 = clean_raw_df(df1_raw)\n",
    "cleaned_2 = clean_raw_df(df2_raw)"
   ]
  },
  {
   "cell_type": "markdown",
   "metadata": {},
   "source": [
    "As the 2nd driving question: Do I have more steps on average during the weekend in comparison to a weekday?, divides the data by day of the week, it will be usefull to visualize the data accordingly. \n",
    "To do this, we need to group the data by day of the week.\n",
    "First, we'll drop the 'Hour' collumn as it's no longer needed."
   ]
  },
  {
   "cell_type": "code",
   "execution_count": 39,
   "metadata": {},
   "outputs": [],
   "source": [
    "day_df1 = cleaned_1.drop(columns=['Hour'])\n",
    "day_df2 = cleaned_2.drop(columns=['Hour'])"
   ]
  },
  {
   "cell_type": "markdown",
   "metadata": {},
   "source": [
    "Now, we'll create new collumns for 'Day of Week' and 'Is Weekday' that we'll be able to group the data by."
   ]
  },
  {
   "cell_type": "code",
   "execution_count": 56,
   "metadata": {},
   "outputs": [],
   "source": [
    "#add Day of the Week column\n",
    "day_df1['Day of Week'] = day_df1.apply(gen_dayofweek, axis=1)\n",
    "day_df2['Day of Week'] = day_df2.apply(gen_dayofweek, axis=1)"
   ]
  },
  {
   "cell_type": "code",
   "execution_count": 57,
   "metadata": {},
   "outputs": [],
   "source": [
    "#add Is Weekday column\n",
    "day_df1['Is Weekday'] = day_df1.apply(gen_isweekday, axis=1)\n",
    "day_df2['Is Weekday'] = day_df2.apply(gen_isweekday, axis=1)"
   ]
  },
  {
   "cell_type": "code",
   "execution_count": 58,
   "metadata": {},
   "outputs": [
    {
     "data": {
      "text/html": [
       "<div>\n",
       "<style scoped>\n",
       "    .dataframe tbody tr th:only-of-type {\n",
       "        vertical-align: middle;\n",
       "    }\n",
       "\n",
       "    .dataframe tbody tr th {\n",
       "        vertical-align: top;\n",
       "    }\n",
       "\n",
       "    .dataframe thead th {\n",
       "        text-align: right;\n",
       "    }\n",
       "</style>\n",
       "<table border=\"1\" class=\"dataframe\">\n",
       "  <thead>\n",
       "    <tr style=\"text-align: right;\">\n",
       "      <th></th>\n",
       "      <th>Date</th>\n",
       "      <th>Count</th>\n",
       "      <th>Day of Week</th>\n",
       "      <th>Is Weekday</th>\n",
       "    </tr>\n",
       "  </thead>\n",
       "  <tbody>\n",
       "    <tr>\n",
       "      <th>0</th>\n",
       "      <td>2014-12-07</td>\n",
       "      <td>2693</td>\n",
       "      <td>6</td>\n",
       "      <td>False</td>\n",
       "    </tr>\n",
       "    <tr>\n",
       "      <th>1</th>\n",
       "      <td>2014-12-08</td>\n",
       "      <td>6567</td>\n",
       "      <td>0</td>\n",
       "      <td>True</td>\n",
       "    </tr>\n",
       "    <tr>\n",
       "      <th>2</th>\n",
       "      <td>2014-12-09</td>\n",
       "      <td>6879</td>\n",
       "      <td>1</td>\n",
       "      <td>True</td>\n",
       "    </tr>\n",
       "    <tr>\n",
       "      <th>3</th>\n",
       "      <td>2014-12-10</td>\n",
       "      <td>7845</td>\n",
       "      <td>2</td>\n",
       "      <td>True</td>\n",
       "    </tr>\n",
       "    <tr>\n",
       "      <th>4</th>\n",
       "      <td>2014-12-11</td>\n",
       "      <td>916</td>\n",
       "      <td>3</td>\n",
       "      <td>True</td>\n",
       "    </tr>\n",
       "    <tr>\n",
       "      <th>...</th>\n",
       "      <td>...</td>\n",
       "      <td>...</td>\n",
       "      <td>...</td>\n",
       "      <td>...</td>\n",
       "    </tr>\n",
       "    <tr>\n",
       "      <th>2290</th>\n",
       "      <td>2021-09-18</td>\n",
       "      <td>11572</td>\n",
       "      <td>5</td>\n",
       "      <td>False</td>\n",
       "    </tr>\n",
       "    <tr>\n",
       "      <th>2291</th>\n",
       "      <td>2021-09-19</td>\n",
       "      <td>10789</td>\n",
       "      <td>6</td>\n",
       "      <td>False</td>\n",
       "    </tr>\n",
       "    <tr>\n",
       "      <th>2292</th>\n",
       "      <td>2021-09-20</td>\n",
       "      <td>8800</td>\n",
       "      <td>0</td>\n",
       "      <td>True</td>\n",
       "    </tr>\n",
       "    <tr>\n",
       "      <th>2293</th>\n",
       "      <td>2021-09-21</td>\n",
       "      <td>17071</td>\n",
       "      <td>1</td>\n",
       "      <td>True</td>\n",
       "    </tr>\n",
       "    <tr>\n",
       "      <th>2294</th>\n",
       "      <td>2021-09-22</td>\n",
       "      <td>10220</td>\n",
       "      <td>2</td>\n",
       "      <td>True</td>\n",
       "    </tr>\n",
       "  </tbody>\n",
       "</table>\n",
       "<p>2295 rows × 4 columns</p>\n",
       "</div>"
      ],
      "text/plain": [
       "           Date  Count  Day of Week  Is Weekday\n",
       "0    2014-12-07   2693            6       False\n",
       "1    2014-12-08   6567            0        True\n",
       "2    2014-12-09   6879            1        True\n",
       "3    2014-12-10   7845            2        True\n",
       "4    2014-12-11    916            3        True\n",
       "...         ...    ...          ...         ...\n",
       "2290 2021-09-18  11572            5       False\n",
       "2291 2021-09-19  10789            6       False\n",
       "2292 2021-09-20   8800            0        True\n",
       "2293 2021-09-21  17071            1        True\n",
       "2294 2021-09-22  10220            2        True\n",
       "\n",
       "[2295 rows x 4 columns]"
      ]
     },
     "execution_count": 58,
     "metadata": {},
     "output_type": "execute_result"
    }
   ],
   "source": [
    "day_df1"
   ]
  },
  {
   "cell_type": "markdown",
   "metadata": {},
   "source": [
    "As we can see, the 'Day of Week' collumn is in integer form. We'll create a dictionary so that we can change them into the corresponding words later."
   ]
  },
  {
   "cell_type": "code",
   "execution_count": 59,
   "metadata": {},
   "outputs": [],
   "source": [
    "daydict = {0:'Mon', 1:'Tues', 2:'Weds', 3:'Thurs', 4:'Fri', 5:'Sat', 6:'Sun'}"
   ]
  },
  {
   "cell_type": "markdown",
   "metadata": {},
   "source": [
    "As the data can now be grouped by 'Day of the Week' and 'Is Weekday', we can create the relavant exploratory visualizations."
   ]
  },
  {
   "cell_type": "code",
   "execution_count": 60,
   "metadata": {},
   "outputs": [],
   "source": [
    "#create empty list to store frequency of each day of the week data for person 1 and 2\n",
    "day_freq1 = []\n",
    "day_freq2 = []\n",
    "#group by day of week\n",
    "gday_df1 = day_df1.groupby('Day of Week')\n",
    "gday_df2 = day_df2.groupby('Day of Week')\n",
    "#get keys for each group to loop through for both data sets\n",
    "day_keys1 = gday_df1.groups.keys()\n",
    "day_keys2 = gday_df2.groups.keys()\n",
    "#loop through each group for person1, counting the number of days recorded\n",
    "for i in day_keys1:\n",
    "    day_freq1.append([daydict[i], gday_df1.get_group(i)['Date'].count()])\n",
    "#loop through each group for person2, counting the number of days recorded \n",
    "for i in day_keys1:\n",
    "    day_freq2.append([daydict[i], gday_df2.get_group(i)['Date'].count()])\n",
    "#create DataFrames from the now populated lists: day_freq1, day_freq2\n",
    "day_freq_df1 = pd.DataFrame(day_freq1, columns=['Day', 'Count'])\n",
    "day_freq_df2 = pd.DataFrame(day_freq2, columns=['Day', 'Count'])"
   ]
  },
  {
   "cell_type": "markdown",
   "metadata": {},
   "source": [
    "Now that we have a DataFrame containing each day of the week and the number of times that day is recorded, we can see the distribution for days of the week recorded."
   ]
  },
  {
   "cell_type": "code",
   "execution_count": 61,
   "metadata": {},
   "outputs": [
    {
     "data": {
      "image/png": "[encoded data removed]",
      "text/plain": [
       "<Figure size 864x504 with 1 Axes>"
      ]
     },
     "metadata": {
      "needs_background": "light"
     },
     "output_type": "display_data"
    }
   ],
   "source": [
    "#graph count of each day for person1 data set\n",
    "plt.bar(day_freq_df1['Day'], day_freq_df1['Count'], color = ['royalblue', 'royalblue', 'royalblue', 'royalblue', 'royalblue', 'indianred', 'indianred'])\n",
    "#set axis labels and titles\n",
    "plt.xlabel('Day of the Week')\n",
    "plt.ylabel('Count')\n",
    "plt.title('Count of Each Day Recorded for person1 Dataset')\n",
    "#create legend\n",
    "patch_red = mpatches.Patch(color='indianred', label='Weekend')\n",
    "patch_blue = mpatches.Patch(color='royalblue', label='Weekdays')\n",
    "plt.legend(handles=[patch_red, patch_blue], loc='best', bbox_to_anchor=(0.555, 0.415, 0.6, 0.6))\n",
    "#set plot size\n",
    "fig = plt.gcf()\n",
    "fig.set_size_inches(12, 7)"
   ]
  },
  {
   "cell_type": "code",
   "execution_count": 62,
   "metadata": {},
   "outputs": [
    {
     "data": {
      "image/png": "[encoded data removed]",
      "text/plain": [
       "<Figure size 864x504 with 1 Axes>"
      ]
     },
     "metadata": {
      "needs_background": "light"
     },
     "output_type": "display_data"
    }
   ],
   "source": [
    "#graph count of each day for person2 data set\n",
    "plt.bar(day_freq_df2['Day'], day_freq_df2['Count'], color = ['royalblue', 'royalblue', 'royalblue', 'royalblue', 'royalblue', 'indianred', 'indianred'])\n",
    "#set axis labels and titles\n",
    "plt.xlabel('Day of the Week')\n",
    "plt.ylabel('Count')\n",
    "plt.title('Count of Each Day Recorded for person2 Dataset')\n",
    "#create legend\n",
    "patch_red = mpatches.Patch(color='indianred', label='Weekend')\n",
    "patch_blue = mpatches.Patch(color='royalblue', label='Weekdays')\n",
    "plt.legend(handles=[patch_red, patch_blue], loc='best', bbox_to_anchor=(0.555, 0.415, 0.6, 0.6))\n",
    "#set plot size\n",
    "fig = plt.gcf()\n",
    "fig.set_size_inches(12, 7)"
   ]
  },
  {
   "cell_type": "markdown",
   "metadata": {},
   "source": [
    "From the two frequency visualizations above, we can tell that person 2 recorded nearly the same amount of days for each day of the week. Person 1 recorded less days on Saturdays and Sundays, but not by a very significant amount."
   ]
  },
  {
   "cell_type": "markdown",
   "metadata": {},
   "source": [
    "# Answering the Driving Questions"
   ]
  },
  {
   "cell_type": "markdown",
   "metadata": {},
   "source": [
    "Different increments: YTD, weeks, months, whole years\n",
    "Different metrics: average steps per day, total steps in 12 months\n",
    "if its average steps per day, we could filter out days, and we'd look at different filter metrics"
   ]
  },
  {
   "cell_type": "markdown",
   "metadata": {},
   "source": [
    "We now explore different ways of considering the driving question of `Last 12 months`, different ways of considering compliance, and different ways of comparing `last 12 months`.\n",
    "\n",
    "First we create worker functions, here we create functions that decrement the dates in order to get the way it changes, as well as a few another functions to allow for different iterators and comparators to be  used."
   ]
  },
  {
   "cell_type": "code",
   "execution_count": 17,
   "metadata": {},
   "outputs": [],
   "source": [
    "# Main working function\n",
    "def get_12_mo_comparison(metric, iterator):\n",
    "    results = []\n",
    "    for x,y in iterator:\n",
    "        results.append(metric(x,y))\n",
    "    return np.array(results)\n",
    "\n",
    "# Considers days\n",
    "def decrement_day(dt):\n",
    "    return dt - timedelta(days = 1)\n",
    "\n",
    "# Considers months\n",
    "def decrement_month(dt):\n",
    "    if dt.month > 1:\n",
    "        return datetime(year = dt.year, month = dt.month - 1, day = dt.day)\n",
    "    return datetime(year = dt.year - 1, month = 12, day = dt.day)\n",
    "\n",
    "# Wraps function so its applied for all args provided\n",
    "def get_single_return_wrapper(fn):\n",
    "    def wrapper(*args):\n",
    "        return [fn(dt) for dt in args]\n",
    "    return wrapper\n",
    "\n",
    "# Iterate subsets of time given df, operation to apply after subset, column to extract, and datetime incrementor\n",
    "def ytd_iter(df, op, col, new_dt):\n",
    "    start_1 = df['Date'].max()\n",
    "    end_1 = datetime(year = start_1.year - 1, month = start_1.month, day = start_1.day)\n",
    "    end_2 = datetime(year = start_1.year - 2, month = start_1.month, day = start_1.day)\n",
    "    while end_2 >= df['Date'].min():\n",
    "        y1 = df[(df['Date'] <= start_1) & (df['Date'] > end_1)][col] # Previous 12 months\n",
    "        y2 = df[(df['Date'] <= end_1) & (df['Date'] > end_2)][col] # The 12 months before that\n",
    "        yield op(y1), op(y2)\n",
    "        start_1, end_1, end_2 = new_dt(start_1, end_1, end_2)\n",
    "\n",
    "# Percentage where we walked more in the last 12 months to the 12 months before\n",
    "def perc_greater(arr):\n",
    "    return np.mean(arr>0)\n",
    "def percent_metric(x,y, goal = 10000):\n",
    "    return np.sum(x >= goal) - np.sum(y >= goal)"
   ]
  },
  {
   "cell_type": "markdown",
   "metadata": {},
   "source": [
    "Here we define a function that takes in a dataframe and a integer goal that creates plots and outputs the percentage of times where the number of days which the goal was met compared to the 12 months before that. A percentage greater than 50% suggests that the person had, more often that not, walked more in the last 12 months compared to the 12 months before that."
   ]
  },
  {
   "cell_type": "code",
   "execution_count": 18,
   "metadata": {},
   "outputs": [],
   "source": [
    "%matplotlib inline\n",
    "\n",
    "ignore = lambda x:x\n",
    "\n",
    "def make_plot(df, goal):\n",
    "    # Use the get 12 month comparison function from before to get the difference of last 12 months and 12 months before, \n",
    "    # decrementing 12 months each time and recomputing\n",
    "    res_1_days_sum = get_12_mo_comparison(lambda x,y :percent_metric(x,y,goal), \n",
    "                                          ytd_iter(df, ignore, 'Count', \n",
    "                                                   get_single_return_wrapper(decrement_month)\n",
    "                                                  )\n",
    "                                         )\n",
    "    print(perc_greater(res_1_days_sum)) # Get percentage of days where driving question was met\n",
    "\n",
    "    # Get dates for plotting\n",
    "    start_1 = df['Date'].max()\n",
    "    dates = []\n",
    "    end_1 = datetime(year = start_1.year - 1, month = start_1.month, day = start_1.day)\n",
    "    end_2 = datetime(year = start_1.year - 2, month = start_1.month, day = start_1.day)\n",
    "    dec = get_single_return_wrapper(decrement_month)\n",
    "    while end_2 >= df['Date'].min():\n",
    "        start_1, end_1, end_2 = dec(start_1, end_1, end_2)\n",
    "        dates.append(start_1)\n",
    "\n",
    "    # Plot results with dates\n",
    "    plt.plot(dates,res_1_days_sum ,marker='x')\n",
    "    plt.title(f'Did I reach {goal} steps in the last 12 months\\n than the 12 months before that?')\n",
    "    plt.xlabel('When am I asking the question?')\n",
    "    plt.ylabel(\"How many more days did I reach my target last\\n 12 months compared to the 12 before that?\")\n",
    "    plt.axhline(y=0, color='r', linestyle='-')"
   ]
  },
  {
   "cell_type": "markdown",
   "metadata": {},
   "source": [
    "First we test the functions with the dummy dataset"
   ]
  },
  {
   "cell_type": "code",
   "execution_count": 19,
   "metadata": {},
   "outputs": [
    {
     "name": "stdout",
     "output_type": "stream",
     "text": [
      "0.0\n"
     ]
    },
    {
     "data": {
      "image/png": "[encoded data removed]",
      "text/plain": [
       "<Figure size 432x288 with 1 Axes>"
      ]
     },
     "metadata": {
      "needs_background": "light"
     },
     "output_type": "display_data"
    }
   ],
   "source": [
    "make_plot(test_df, 10000)"
   ]
  },
  {
   "cell_type": "markdown",
   "metadata": {},
   "source": [
    "The plot is flat as expected from a constant dataset\n",
    "\n",
    "Now we plot person 1 with a goal of 10000 steps"
   ]
  },
  {
   "cell_type": "code",
   "execution_count": 20,
   "metadata": {},
   "outputs": [
    {
     "name": "stdout",
     "output_type": "stream",
     "text": [
      "0.603448275862069\n"
     ]
    },
    {
     "data": {
      "image/png": "[encoded data removed]",
      "text/plain": [
       "<Figure size 432x288 with 1 Axes>"
      ]
     },
     "metadata": {
      "needs_background": "light"
     },
     "output_type": "display_data"
    }
   ],
   "source": [
    "make_plot(cleaned_1,10000)"
   ]
  },
  {
   "cell_type": "markdown",
   "metadata": {},
   "source": [
    "Here we can see that this person was progressively more and more active from 2018-2020, but experienced a sharp decline in reaching goals from 2020 onwards.\n",
    "\n",
    "Now we take a look at person 2."
   ]
  },
  {
   "cell_type": "code",
   "execution_count": null,
   "metadata": {},
   "outputs": [],
   "source": [
    "%matplotlib inline\n",
    "make_plot(cleaned_2, 10000)"
   ]
  },
  {
   "cell_type": "markdown",
   "metadata": {},
   "source": [
    "We can see that person 2 was much more consistent from 2018 to 2020 as the difference in the number of days of goal met was around 0 from 2018 to 2020, but similar to person 1 experienced a sharp decline from 2020 onwards. This is likely due to the Covid-19 pandemic.\n",
    "\n",
    "Now we shift the goal posts back to 5000 steps."
   ]
  },
  {
   "cell_type": "code",
   "execution_count": null,
   "metadata": {},
   "outputs": [],
   "source": [
    "%matplotlib inline\n",
    "make_plot(cleaned_1,5000)"
   ]
  },
  {
   "cell_type": "markdown",
   "metadata": {},
   "source": [
    "This plot is similar to the plot with 10000 steps, with largely similar shapes"
   ]
  },
  {
   "cell_type": "code",
   "execution_count": null,
   "metadata": {},
   "outputs": [],
   "source": [
    "%matplotlib inline\n",
    "make_plot(cleaned_2,5000)"
   ]
  },
  {
   "cell_type": "markdown",
   "metadata": {},
   "source": [
    "Similarly with person 1, the reduced goal for person 2 also results in a plot with a largely identical shape."
   ]
  },
  {
   "cell_type": "markdown",
   "metadata": {},
   "source": [
    "We now investigate the effects of changing the goal on how each person is able to reach their goal in the last 12 months compare to the 12 months before that.\n",
    "\n",
    "First we define functions required, such as generating data for 3D plots, and creating functions for 3D plots using `matplotlib` and `mayavi`"
   ]
  },
  {
   "cell_type": "code",
   "execution_count": null,
   "metadata": {},
   "outputs": [],
   "source": [
    "def get_grid_3d(df):    \n",
    "    X, Y, Z = [], [], []\n",
    "\n",
    "    # Compute values as before for 2D line plots but with varying goals to create a 3D plot\n",
    "    for lim in range(0,20000,1000):\n",
    "        curr_met = lambda x,y : percent_metric(x,y,lim)\n",
    "        cmpr = get_12_mo_comparison(curr_met, ytd_iter(df, ignore, 'Count', get_single_return_wrapper(decrement_month)))\n",
    "        Z.append(cmpr)\n",
    "        X.append(list(range(len(cmpr))))\n",
    "        Y.append([lim]*len(cmpr))\n",
    "    X,Y,Z = np.asarray(X),np.asarray(Y),np.asarray(Z)\n",
    "    X = X.max() - X\n",
    "    return X,Y,Z\n",
    "\n",
    "def mpl3d(X,Y,Z):\n",
    "    \"\"\"\n",
    "    Plots surface using matplotlib\n",
    "    \"\"\"\n",
    "    fig = plt.figure()\n",
    "    ax = fig.add_subplot(111, projection='3d')\n",
    "    ax.plot_surface(X, Y, Z, cmap=cm.coolwarm,linewidth=0,alpha = 0.9)\n",
    "    ax.plot_surface(X, Y, 0*Z, alpha = 0.2, color='k') # Z=0 plane\n",
    "\n",
    "    ax.set_ylabel('step goal')\n",
    "    ax.set_zlabel('diff in days goal reached')\n",
    "    ax.set_title('Effect of varying goal for person 1')\n",
    "    fig = plt.gcf()\n",
    "    fig.set_size_inches(6.5, 4.5)\n",
    "\n",
    "def mlab3d(X,Y,Z):\n",
    "    \"\"\"\n",
    "    Plots surface using matplotlib\n",
    "    \"\"\"\n",
    "    s1 = mlab.surf(Y, X, np.zeros_like(Z), warp_scale='auto', opacity = 0.3)\n",
    "    # Divide by max because of issues of Mayavi with different scales\n",
    "    # Although the value for z axis is not correct, shape is the same\n",
    "    s = mlab.surf(Y, X, (Z/Z.std()), warp_scale='auto')\n",
    "    mlab.axes(xlabel='Step goal', ylabel='n-th 2 year period', zlabel='days better 12mo')\n",
    "    return s"
   ]
  },
  {
   "cell_type": "markdown",
   "metadata": {},
   "source": [
    "First we test with dummy data"
   ]
  },
  {
   "cell_type": "code",
   "execution_count": null,
   "metadata": {},
   "outputs": [],
   "source": [
    "X, Y, Z = get_grid_3d(test_df)\n",
    "\n",
    "mpl3d(X,Y,Z)"
   ]
  },
  {
   "cell_type": "code",
   "execution_count": null,
   "metadata": {},
   "outputs": [],
   "source": [
    "mlab.figure()\n",
    "mlab3d(X,Y,Z)"
   ]
  },
  {
   "cell_type": "markdown",
   "metadata": {},
   "source": [
    "Plots are working as expected, jaggedness and sharp declines are caused by goals < 5000 (otherwise no goals are met, constant 0) and leap years (therefore 1 more/fewer day where goal is reached than previous year"
   ]
  },
  {
   "cell_type": "markdown",
   "metadata": {},
   "source": [
    "3D plot using matplotlib"
   ]
  },
  {
   "cell_type": "code",
   "execution_count": null,
   "metadata": {},
   "outputs": [],
   "source": [
    "%matplotlib inline\n",
    "X, Y, Z = get_grid_3d(cleaned_2)\n",
    "\n",
    "mpl3d(X,Y,Z)"
   ]
  },
  {
   "cell_type": "markdown",
   "metadata": {},
   "source": [
    "We can see that 3D the `z=0` plane does not show up well in `matplotlib`. This is a known issue, an alternative, `Mayavi` can be used"
   ]
  },
  {
   "cell_type": "code",
   "execution_count": null,
   "metadata": {},
   "outputs": [],
   "source": [
    "mlab.figure()\n",
    "mlab3d(X,Y,Z)"
   ]
  },
  {
   "cell_type": "markdown",
   "metadata": {},
   "source": [
    "We can see that for person 1, the lower the goal is, the larger the difference, meaning that the user was more likely to reach their goals for more days in the last 12 months compared to the year before that when the goal is lower, conversely as the goal increases, the difference between the last year and the year before that decreases."
   ]
  },
  {
   "cell_type": "code",
   "execution_count": null,
   "metadata": {},
   "outputs": [],
   "source": [
    "%matplotlib inline\n",
    "X, Y, Z = get_grid_3d(cleaned_2)\n",
    "\n",
    "mpl3d(X,Y,Z)"
   ]
  },
  {
   "cell_type": "markdown",
   "metadata": {},
   "source": [
    "Visual bugs from plotting multiple surfaces can sometimes be seen in `matplotlib`"
   ]
  },
  {
   "cell_type": "code",
   "execution_count": null,
   "metadata": {},
   "outputs": [],
   "source": [
    "mlab.figure()\n",
    "mlab3d(X,Y,Z)"
   ]
  },
  {
   "cell_type": "markdown",
   "metadata": {},
   "source": [
    "However for person 2, the lower the goal, the more likely they were to reach their goal, and the smaller the difference between years. When the goal is increased, the difference between the years were much bigger, seen in the large area beneath the z=0 plane in the plot on the left and the higher peaks.\n",
    "\n",
    "We also elected to use both `Mayavi` and `matplotlib` plots because both has strengths and weaknesses. `matplotlib` conveys uncertainty well with grids as opposed to a smooth surface, but `Mayavi` is able to display the $z=0$ plane which allows for better understanding of when the person walked more or less than the year before"
   ]
  },
  {
   "cell_type": "markdown",
   "metadata": {},
   "source": [
    "Final outputs in case widgets don't load"
   ]
  },
  {
   "cell_type": "markdown",
   "metadata": {},
   "source": [
    "Plot for person 1:\n",
    "![title](savedplots/snapshot.png)\n",
    "Plot for person 2:\n",
    "![title](savedplots/snapshot_person_2.png)"
   ]
  },
  {
   "cell_type": "markdown",
   "metadata": {},
   "source": [
    "In conclusion, whether or not a person achieves their goal of walking more in the last 12 months compared to the 12 months before that is dependent on their goal, and thus has no strict answer."
   ]
  },
  {
   "cell_type": "markdown",
   "metadata": {},
   "source": [
    "The second driving: Do I have more steps on average during the weekend in comparison to a weekday?, can be answered for definitely. To answer this question, we need to group the data by day of the week and take the means of those groups."
   ]
  },
  {
   "cell_type": "code",
   "execution_count": 64,
   "metadata": {},
   "outputs": [],
   "source": [
    "#create empty list to store mean data for each day of the week for person 1 and 2\n",
    "day_mean1 = []\n",
    "day_mean2 = []\n",
    "#group by day of week\n",
    "gday_df1 = day_df1.groupby('Day of Week')\n",
    "gday_df2 = day_df2.groupby('Day of Week')\n",
    "#get keys for each group to loop through for both data sets\n",
    "day_keys1 = gday_df1.groups.keys()\n",
    "day_keys2 = gday_df2.groups.keys()\n",
    "#loop through each group for person1, putting the day, mean of steps of that day and SEM in our new lists\n",
    "for i in day_keys1:\n",
    "    day_mean1.append([daydict[i], gday_df1.get_group(i)['Count'].mean(), gday_df1.get_group(i)['Count'].sem()])\n",
    "#loop through each group for person2, putting the day, mean of steps of that day and SEM in our new lists\n",
    "for i in day_keys2:\n",
    "    day_mean2.append([daydict[i], gday_df2.get_group(i)['Count'].mean(), gday_df2.get_group(i)['Count'].sem()])\n",
    "#create DataFrames from the now populated lists: day_freq1, day_freq2\n",
    "day_mean_df1 = pd.DataFrame(day_mean1, columns = ['Day', 'Mean Steps', 'SEM'])\n",
    "day_mean_df2 = pd.DataFrame(day_mean2, columns = ['Day', 'Mean Steps', 'SEM'])"
   ]
  },
  {
   "cell_type": "code",
   "execution_count": 65,
   "metadata": {},
   "outputs": [
    {
     "data": {
      "text/html": [
       "<div>\n",
       "<style scoped>\n",
       "    .dataframe tbody tr th:only-of-type {\n",
       "        vertical-align: middle;\n",
       "    }\n",
       "\n",
       "    .dataframe tbody tr th {\n",
       "        vertical-align: top;\n",
       "    }\n",
       "\n",
       "    .dataframe thead th {\n",
       "        text-align: right;\n",
       "    }\n",
       "</style>\n",
       "<table border=\"1\" class=\"dataframe\">\n",
       "  <thead>\n",
       "    <tr style=\"text-align: right;\">\n",
       "      <th></th>\n",
       "      <th>Day</th>\n",
       "      <th>Mean Steps</th>\n",
       "      <th>SEM</th>\n",
       "    </tr>\n",
       "  </thead>\n",
       "  <tbody>\n",
       "    <tr>\n",
       "      <th>0</th>\n",
       "      <td>Mon</td>\n",
       "      <td>6004.833828</td>\n",
       "      <td>343.208084</td>\n",
       "    </tr>\n",
       "    <tr>\n",
       "      <th>1</th>\n",
       "      <td>Tues</td>\n",
       "      <td>6046.846608</td>\n",
       "      <td>298.956101</td>\n",
       "    </tr>\n",
       "    <tr>\n",
       "      <th>2</th>\n",
       "      <td>Weds</td>\n",
       "      <td>6300.564565</td>\n",
       "      <td>280.769149</td>\n",
       "    </tr>\n",
       "    <tr>\n",
       "      <th>3</th>\n",
       "      <td>Thurs</td>\n",
       "      <td>7034.276471</td>\n",
       "      <td>414.797480</td>\n",
       "    </tr>\n",
       "    <tr>\n",
       "      <th>4</th>\n",
       "      <td>Fri</td>\n",
       "      <td>6424.283626</td>\n",
       "      <td>316.143906</td>\n",
       "    </tr>\n",
       "    <tr>\n",
       "      <th>5</th>\n",
       "      <td>Sat</td>\n",
       "      <td>6111.533101</td>\n",
       "      <td>310.845323</td>\n",
       "    </tr>\n",
       "    <tr>\n",
       "      <th>6</th>\n",
       "      <td>Sun</td>\n",
       "      <td>6783.230284</td>\n",
       "      <td>336.442982</td>\n",
       "    </tr>\n",
       "  </tbody>\n",
       "</table>\n",
       "</div>"
      ],
      "text/plain": [
       "     Day   Mean Steps         SEM\n",
       "0    Mon  6004.833828  343.208084\n",
       "1   Tues  6046.846608  298.956101\n",
       "2   Weds  6300.564565  280.769149\n",
       "3  Thurs  7034.276471  414.797480\n",
       "4    Fri  6424.283626  316.143906\n",
       "5    Sat  6111.533101  310.845323\n",
       "6    Sun  6783.230284  336.442982"
      ]
     },
     "execution_count": 65,
     "metadata": {},
     "output_type": "execute_result"
    }
   ],
   "source": [
    "day_mean_df1"
   ]
  },
  {
   "cell_type": "code",
   "execution_count": 66,
   "metadata": {},
   "outputs": [
    {
     "data": {
      "text/html": [
       "<div>\n",
       "<style scoped>\n",
       "    .dataframe tbody tr th:only-of-type {\n",
       "        vertical-align: middle;\n",
       "    }\n",
       "\n",
       "    .dataframe tbody tr th {\n",
       "        vertical-align: top;\n",
       "    }\n",
       "\n",
       "    .dataframe thead th {\n",
       "        text-align: right;\n",
       "    }\n",
       "</style>\n",
       "<table border=\"1\" class=\"dataframe\">\n",
       "  <thead>\n",
       "    <tr style=\"text-align: right;\">\n",
       "      <th></th>\n",
       "      <th>Day</th>\n",
       "      <th>Mean Steps</th>\n",
       "      <th>SEM</th>\n",
       "    </tr>\n",
       "  </thead>\n",
       "  <tbody>\n",
       "    <tr>\n",
       "      <th>0</th>\n",
       "      <td>Mon</td>\n",
       "      <td>13080.457865</td>\n",
       "      <td>331.018980</td>\n",
       "    </tr>\n",
       "    <tr>\n",
       "      <th>1</th>\n",
       "      <td>Tues</td>\n",
       "      <td>14603.320225</td>\n",
       "      <td>439.083670</td>\n",
       "    </tr>\n",
       "    <tr>\n",
       "      <th>2</th>\n",
       "      <td>Weds</td>\n",
       "      <td>13848.317416</td>\n",
       "      <td>353.043070</td>\n",
       "    </tr>\n",
       "    <tr>\n",
       "      <th>3</th>\n",
       "      <td>Thurs</td>\n",
       "      <td>14362.374648</td>\n",
       "      <td>335.633082</td>\n",
       "    </tr>\n",
       "    <tr>\n",
       "      <th>4</th>\n",
       "      <td>Fri</td>\n",
       "      <td>14236.408451</td>\n",
       "      <td>344.278649</td>\n",
       "    </tr>\n",
       "    <tr>\n",
       "      <th>5</th>\n",
       "      <td>Sat</td>\n",
       "      <td>11692.351124</td>\n",
       "      <td>384.393061</td>\n",
       "    </tr>\n",
       "    <tr>\n",
       "      <th>6</th>\n",
       "      <td>Sun</td>\n",
       "      <td>15901.306180</td>\n",
       "      <td>384.042860</td>\n",
       "    </tr>\n",
       "  </tbody>\n",
       "</table>\n",
       "</div>"
      ],
      "text/plain": [
       "     Day    Mean Steps         SEM\n",
       "0    Mon  13080.457865  331.018980\n",
       "1   Tues  14603.320225  439.083670\n",
       "2   Weds  13848.317416  353.043070\n",
       "3  Thurs  14362.374648  335.633082\n",
       "4    Fri  14236.408451  344.278649\n",
       "5    Sat  11692.351124  384.393061\n",
       "6    Sun  15901.306180  384.042860"
      ]
     },
     "execution_count": 66,
     "metadata": {},
     "output_type": "execute_result"
    }
   ],
   "source": [
    "day_mean_df2"
   ]
  },
  {
   "cell_type": "markdown",
   "metadata": {},
   "source": [
    "The above DataFrames tell us which days had the highest mean steps for person1 and person2 respectively. \n",
    "Person1 averaged the most steps on Thursdays while person2 averaged the most steps on Sundays. However, it would be helpfull to also have the mean of the whole weekend or work week. To do that, we will have to group the data by 'Is Weekday'."
   ]
  },
  {
   "cell_type": "code",
   "execution_count": 68,
   "metadata": {},
   "outputs": [],
   "source": [
    "#group both datasets by weekend or weekday\n",
    "gweek_df1 = day_df1.groupby('Is Weekday')\n",
    "gweek_df2 = day_df2.groupby('Is Weekday')\n",
    "#create keys\n",
    "weekkeys1 = gweek_df1.groups.keys()\n",
    "weekkeys2 = gweek_df2.groups.keys()\n",
    "#create dict to translate True/False to weekday/weekend\n",
    "weekdict = {True:'Weekday', False:'Weekend'}\n",
    "#create empty lists to put weekday/weekend mean data\n",
    "week_mean_data1 = []\n",
    "week_mean_data2 = []\n",
    "#loop through each group for person1 and get Weekday or Weekend, mean steps and SEM\n",
    "for i in weekkeys1:\n",
    "    week_mean_data1.append([weekdict[i], gweek_df1.get_group(i)['Count'].mean(), gweek_df1.get_group(i)['Count'].sem()])\n",
    "#loop through each group for person2 and get Weekday or Weekend, mean steps and SEM\n",
    "for i in weekkeys2:\n",
    "    week_mean_data2.append([weekdict[i], gweek_df2.get_group(i)['Count'].mean(), gweek_df2.get_group(i)['Count'].sem()])\n",
    "#create new dataframes with new mean data\n",
    "week_mean_df1 = pd.DataFrame(week_mean_data1, columns = ['Period', 'Mean Steps', 'SEM'])\n",
    "week_mean_df2 = pd.DataFrame(week_mean_data2, columns = ['Period', 'Mean Steps', 'SEM'])"
   ]
  },
  {
   "cell_type": "code",
   "execution_count": 69,
   "metadata": {},
   "outputs": [
    {
     "data": {
      "text/html": [
       "<div>\n",
       "<style scoped>\n",
       "    .dataframe tbody tr th:only-of-type {\n",
       "        vertical-align: middle;\n",
       "    }\n",
       "\n",
       "    .dataframe tbody tr th {\n",
       "        vertical-align: top;\n",
       "    }\n",
       "\n",
       "    .dataframe thead th {\n",
       "        text-align: right;\n",
       "    }\n",
       "</style>\n",
       "<table border=\"1\" class=\"dataframe\">\n",
       "  <thead>\n",
       "    <tr style=\"text-align: right;\">\n",
       "      <th></th>\n",
       "      <th>Period</th>\n",
       "      <th>Mean Steps</th>\n",
       "      <th>SEM</th>\n",
       "    </tr>\n",
       "  </thead>\n",
       "  <tbody>\n",
       "    <tr>\n",
       "      <th>0</th>\n",
       "      <td>Weekend</td>\n",
       "      <td>6464.062914</td>\n",
       "      <td>230.424351</td>\n",
       "    </tr>\n",
       "    <tr>\n",
       "      <th>1</th>\n",
       "      <td>Weekday</td>\n",
       "      <td>6363.309876</td>\n",
       "      <td>149.665736</td>\n",
       "    </tr>\n",
       "  </tbody>\n",
       "</table>\n",
       "</div>"
      ],
      "text/plain": [
       "    Period   Mean Steps         SEM\n",
       "0  Weekend  6464.062914  230.424351\n",
       "1  Weekday  6363.309876  149.665736"
      ]
     },
     "execution_count": 69,
     "metadata": {},
     "output_type": "execute_result"
    }
   ],
   "source": [
    "week_mean_df1"
   ]
  },
  {
   "cell_type": "code",
   "execution_count": 70,
   "metadata": {},
   "outputs": [
    {
     "data": {
      "text/html": [
       "<div>\n",
       "<style scoped>\n",
       "    .dataframe tbody tr th:only-of-type {\n",
       "        vertical-align: middle;\n",
       "    }\n",
       "\n",
       "    .dataframe tbody tr th {\n",
       "        vertical-align: top;\n",
       "    }\n",
       "\n",
       "    .dataframe thead th {\n",
       "        text-align: right;\n",
       "    }\n",
       "</style>\n",
       "<table border=\"1\" class=\"dataframe\">\n",
       "  <thead>\n",
       "    <tr style=\"text-align: right;\">\n",
       "      <th></th>\n",
       "      <th>Period</th>\n",
       "      <th>Mean Steps</th>\n",
       "      <th>SEM</th>\n",
       "    </tr>\n",
       "  </thead>\n",
       "  <tbody>\n",
       "    <tr>\n",
       "      <th>0</th>\n",
       "      <td>Weekend</td>\n",
       "      <td>13796.828652</td>\n",
       "      <td>282.73120</td>\n",
       "    </tr>\n",
       "    <tr>\n",
       "      <th>1</th>\n",
       "      <td>Weekday</td>\n",
       "      <td>14025.868391</td>\n",
       "      <td>162.58822</td>\n",
       "    </tr>\n",
       "  </tbody>\n",
       "</table>\n",
       "</div>"
      ],
      "text/plain": [
       "    Period    Mean Steps        SEM\n",
       "0  Weekend  13796.828652  282.73120\n",
       "1  Weekday  14025.868391  162.58822"
      ]
     },
     "execution_count": 70,
     "metadata": {},
     "output_type": "execute_result"
    }
   ],
   "source": [
    "week_mean_df2"
   ]
  },
  {
   "cell_type": "markdown",
   "metadata": {},
   "source": [
    "Person1 averaged more steps during the Weekend while Person2 averaged more steps during the Weekdays. \n",
    "However, if we want to make comparisions between the days of the week and periods of weekdays and weekends, we should create a visualization with all the above mentioned data."
   ]
  },
  {
   "cell_type": "code",
   "execution_count": 73,
   "metadata": {},
   "outputs": [
    {
     "data": {
      "image/png": "[encoded data removed]",
      "text/plain": [
       "<Figure size 864x504 with 1 Axes>"
      ]
     },
     "metadata": {
      "needs_background": "light"
     },
     "output_type": "display_data"
    }
   ],
   "source": [
    "#graph means per day for person1 data set with error bars\n",
    "plt.bar(day_mean_df1['Day'], day_mean_df1['Mean Steps'], color = ['royalblue', 'royalblue', 'royalblue', 'royalblue', 'royalblue', 'indianred', 'indianred'])\n",
    "plt.errorbar(day_mean_df1['Day'], day_mean_df1['Mean Steps'], yerr=day_mean_df1['SEM'], capsize=7, elinewidth=1, markeredgewidth=1, color = 'black', ls='none')\n",
    "#set axis labels and titles\n",
    "plt.xlabel('Day of the Week')\n",
    "plt.ylabel('Mean Steps')\n",
    "plt.title('Mean steps per day for person1 dataset')\n",
    "#add weekday and weekend means\n",
    "h1 = week_mean_df1[week_mean_df1['Period']=='Weekday']['Mean Steps'][1]\n",
    "h2 = week_mean_df1[week_mean_df1['Period']=='Weekend']['Mean Steps'][0]\n",
    "hline1 = plt.axhline(y=h1,linewidth=1.3, linestyle='--', label='Weekday Mean', color='blue')\n",
    "hline2 = plt.axhline(y=h2,linewidth=1.3, linestyle='--', label='Weekend Mean', color='red')\n",
    "#create legend\n",
    "patch_red = mpatches.Patch(color='indianred', label='Weekend')\n",
    "patch_blue = mpatches.Patch(color='royalblue', label='Weekdays')\n",
    "plt.legend(handles=[patch_red, patch_blue, hline1, hline2], loc='best', bbox_to_anchor=(0.585, 0.415, 0.6, 0.6))\n",
    "#set plot size\n",
    "fig = plt.gcf()\n",
    "fig.set_size_inches(12, 7)"
   ]
  },
  {
   "cell_type": "code",
   "execution_count": 75,
   "metadata": {},
   "outputs": [
    {
     "data": {
      "image/png": "[encoded data removed]",
      "text/plain": [
       "<Figure size 864x504 with 1 Axes>"
      ]
     },
     "metadata": {
      "needs_background": "light"
     },
     "output_type": "display_data"
    }
   ],
   "source": [
    "#graph means per day for person2 data set with error bars\n",
    "plt.bar(day_mean_df2['Day'], day_mean_df2['Mean Steps'], color = ['royalblue', 'royalblue', 'royalblue', 'royalblue', 'royalblue', 'indianred', 'indianred'])\n",
    "plt.errorbar(day_mean_df2['Day'], day_mean_df2['Mean Steps'], yerr=day_mean_df2['SEM'], capsize=7, elinewidth=1, markeredgewidth=1, color = 'black', ls='none')\n",
    "#set axis labels and titles\n",
    "plt.xlabel('Day of the Week')\n",
    "plt.ylabel('Mean Steps')\n",
    "plt.title('Mean steps per day for person2 dataset')\n",
    "#add weekday and weekend means\n",
    "h1 = week_mean_df2[week_mean_df2['Period']=='Weekday']['Mean Steps'][1]\n",
    "h2 = week_mean_df2[week_mean_df2['Period']=='Weekend']['Mean Steps'][0]\n",
    "plt.axhline(y=h1,linewidth=1.3, linestyle='--', label='Weekday Mean', color='blue')\n",
    "plt.axhline(y=h2,linewidth=1.3, linestyle='--', label='Weekend Mean', color='red')\n",
    "#create legend\n",
    "patch_red = mpatches.Patch(color='indianred', label='Weekend')\n",
    "patch_blue = mpatches.Patch(color='royalblue', label='Weekdays')\n",
    "plt.legend(handles=[patch_red, patch_blue, hline1, hline2], loc='best', bbox_to_anchor=(0.585, 0.415, 0.6, 0.6))\n",
    "#set plot size\n",
    "fig = plt.gcf()\n",
    "fig.set_size_inches(12, 7)"
   ]
  },
  {
   "cell_type": "markdown",
   "metadata": {},
   "source": [
    "Finally, we have one visualization per data set that shows mean steps per day with standard error of the mean, aslong as weekday and weekend means. "
   ]
  },
  {
   "cell_type": "markdown",
   "metadata": {},
   "source": [
    "The graph utilizes the Gestalt law of similarity as the different shades of blue and red are present in different details of the same group. Blue bars and a blue line symbolize weekdays while red bars and a red line symbolize the weekend.\n",
    "The graph is friendly to the colour blind as all 3 types of color blindess are able to distinguish the primary colors: blue and red."
   ]
  },
  {
   "cell_type": "markdown",
   "metadata": {},
   "source": [
    "Libraries used"
   ]
  },
  {
   "cell_type": "code",
   "execution_count": null,
   "metadata": {},
   "outputs": [],
   "source": [
    "installed_packages = !pip freeze\n",
    "used_packages = ['pandas', 'os', 'matplotlib','datetime','numpy','mayavi']\n",
    "_ = [print(x) for x in installed_packages if any(x.startswith(u) for u in used_packages)]"
   ]
  }
 ],
 "metadata": {
  "interpreter": {
   "hash": "e7fa0ba5adb8b3edc4765872b1e064195f79e60f82b99575e696a857e1a16f78"
  },
  "kernelspec": {
   "display_name": "Python 3",
   "language": "python",
   "name": "python3"
  },
  "language_info": {
   "codemirror_mode": {
    "name": "ipython",
    "version": 3
   },
   "file_extension": ".py",
   "mimetype": "text/x-python",
   "name": "python",
   "nbconvert_exporter": "python",
   "pygments_lexer": "ipython3",
   "version": "3.8.5"
  }
 },
 "nbformat": 4,
 "nbformat_minor": 4
}
