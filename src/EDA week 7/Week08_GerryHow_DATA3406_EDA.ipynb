{
  "nbformat": 4,
  "nbformat_minor": 2,
  "metadata": {
    "colab": {
      "name": "Week08-GerryHow DATA3406 EDA.ipynb",
      "provenance": []
    },
    "kernelspec": {
      "name": "python3",
      "display_name": "Python 3.7.2 64-bit"
    },
    "language_info": {
      "name": "python",
      "version": "3.7.2",
      "mimetype": "text/x-python",
      "codemirror_mode": {
        "name": "ipython",
        "version": 3
      },
      "pygments_lexer": "ipython3",
      "nbconvert_exporter": "python",
      "file_extension": ".py"
    },
    "interpreter": {
      "hash": "e7fa0ba5adb8b3edc4765872b1e064195f79e60f82b99575e696a857e1a16f78"
    }
  },
  "cells": [
    {
      "cell_type": "markdown",
      "source": [
        "# This notebook is the initial data analysis for the Assignment 2 dataset\n",
        "\n",
        "The aim is to find out aspects of the dataset that might be worthy of note later down the datascience pipeline"
      ],
      "metadata": {
        "id": "smcSvfFRrVZn"
      }
    },
    {
      "cell_type": "markdown",
      "source": [
        "First we import the required libraries"
      ],
      "metadata": {
        "id": "O0ljzR73sRoT"
      }
    },
    {
      "cell_type": "code",
      "execution_count": 1,
      "source": [
        "import pandas as pd\r\n",
        "import os\r\n",
        "import matplotlib.pyplot as plt"
      ],
      "outputs": [],
      "metadata": {
        "id": "2h7e5KwNi1Nf"
      }
    },
    {
      "cell_type": "markdown",
      "source": [
        "Mount drive to load datasets from drive onto the notebook\n"
      ],
      "metadata": {
        "id": "snfa8wkGszlg"
      }
    },
    {
      "cell_type": "markdown",
      "source": [
        "Check that mount worked and view available datasets"
      ],
      "metadata": {
        "id": "FMae6SOvs7vd"
      }
    },
    {
      "cell_type": "markdown",
      "source": [
        "Read in datasets using pandas\n"
      ],
      "metadata": {
        "id": "hdK_yeomtCp1"
      }
    },
    {
      "cell_type": "code",
      "execution_count": 2,
      "source": [
        "df1 = pd.read_csv('../data/person1-step-data.csv')\r\n",
        "df2 = pd.read_csv('../data/person2-step-data.csv')"
      ],
      "outputs": [],
      "metadata": {
        "id": "O9q5gXtOkEVD"
      }
    },
    {
      "cell_type": "markdown",
      "source": [
        "Check columns and their types, we can see that `Date` is still in str"
      ],
      "metadata": {
        "id": "VM3z8QO8tKGa"
      }
    },
    {
      "cell_type": "code",
      "execution_count": 3,
      "source": [
        "print('Person 1 dtypes')\r\n",
        "print(df1.dtypes)\r\n",
        "print('\\nPerson 2 dtypes')\r\n",
        "print(df2.dtypes)"
      ],
      "outputs": [
        {
          "output_type": "stream",
          "name": "stdout",
          "text": [
            "Person 1 dtypes\n",
            "Source    object\n",
            "Date      object\n",
            "Hour       int64\n",
            "Count      int64\n",
            "dtype: object\n",
            "\n",
            "Person 2 dtypes\n",
            "Source    object\n",
            "Date      object\n",
            "Hour       int64\n",
            "Count      int64\n",
            "dtype: object\n"
          ]
        }
      ],
      "metadata": {
        "colab": {
          "base_uri": "https://localhost:8080/"
        },
        "id": "92i9U5RdmjgX",
        "outputId": "a5ec3896-ed0a-4197-d76b-6d6a53048df1"
      }
    },
    {
      "cell_type": "markdown",
      "source": [
        "Convert columns to correct data type\n"
      ],
      "metadata": {
        "id": "89E0zMXDtUT2"
      }
    },
    {
      "cell_type": "code",
      "execution_count": 4,
      "source": [
        "df1['Date'] = pd.to_datetime(df1['Date'])\r\n",
        "df2['Date'] = pd.to_datetime(df2['Date'])"
      ],
      "outputs": [],
      "metadata": {
        "id": "Jv0wVQhtlRuj"
      }
    },
    {
      "cell_type": "markdown",
      "source": [
        "Now we can explore the data, here we check number of \n",
        "- rows and columns\n",
        "- unique number of sources step counts were gathered from\n",
        "- start and end of data collection\n",
        "- number of days where data is present\n",
        "- quick check for the `hour` column"
      ],
      "metadata": {
        "id": "0hp7tPLTuAMq"
      }
    },
    {
      "cell_type": "code",
      "execution_count": 5,
      "source": [
        "def summary(df):\n",
        "    print(f\"df shape: {df.shape}\")\n",
        "    print(f\"Sources include {df['Source'].unique()}\")\n",
        "    print(f\"First day: {df['Date'].min()}\")\n",
        "    print(f\"Last day: {df['Date'].max()}\")\n",
        "    print(f\"Number of days: {len(df['Date'].unique())}\")\n",
        "    print(f\"First hour: {df['Hour'].min()}\")\n",
        "    print(f\"Last hour: {df['Hour'].max()}\")"
      ],
      "outputs": [],
      "metadata": {
        "id": "XUJ-AW3WjR93"
      }
    },
    {
      "cell_type": "code",
      "execution_count": 6,
      "source": [
        "summary(df1)"
      ],
      "outputs": [
        {
          "output_type": "stream",
          "name": "stdout",
          "text": [
            "df shape: (183787, 4)\n",
            "Sources include ['Person1 iPhone SE' 'Person1 Mi Fit' 'Person1 Misfit'\n",
            " 'Person1 Health Mate' 'Person1 Apple\\xa0Watch']\n",
            "First day: 2014-12-07 00:00:00\n",
            "Last day: 2021-09-22 00:00:00\n",
            "Number of days: 2295\n",
            "First hour: 0\n",
            "Last hour: 23\n"
          ]
        }
      ],
      "metadata": {
        "colab": {
          "base_uri": "https://localhost:8080/"
        },
        "id": "-Ay3ZlMOmyVN",
        "outputId": "7b553671-adf3-4ec1-d5d7-039625038812"
      }
    },
    {
      "cell_type": "code",
      "execution_count": 7,
      "source": [
        "summary(df2)"
      ],
      "outputs": [
        {
          "output_type": "stream",
          "name": "stdout",
          "text": [
            "df shape: (486259, 4)\n",
            "Sources include ['Person2 Phone' 'Person2 Watch']\n",
            "First day: 2014-11-29 00:00:00\n",
            "Last day: 2021-09-22 00:00:00\n",
            "Number of days: 2490\n",
            "First hour: 0\n",
            "Last hour: 23\n"
          ]
        }
      ],
      "metadata": {
        "colab": {
          "base_uri": "https://localhost:8080/"
        },
        "id": "ZMeMgHQBm63r",
        "outputId": "046e36fe-96f5-475d-ddce-9b3af245783a"
      }
    },
    {
      "cell_type": "markdown",
      "source": [
        "Interestingly enough `person 2` only has two sources of data whereas `person one` has 5\n",
        "`Person 1` started recording 9 days later, but has 195 fewer days recorded"
      ],
      "metadata": {
        "id": "8jpUWJ7gujLs"
      }
    },
    {
      "cell_type": "code",
      "execution_count": 8,
      "source": [
        "def daily_steps(df):\n",
        "    plt.rcParams[\"figure.figsize\"] = (20,3)\n",
        "    fig, (ax1, ax2) = plt.subplots(1, 2)\n",
        "    ax1.set_title('Number of steps over time')\n",
        "    ax2.set_title('Distribution of steps')\n",
        "    plt.figure(figsize=(8, 6), dpi=80)\n",
        "    df = df.groupby('Date').sum()\n",
        "    ax1.plot(df['Count'])\n",
        "    ax2.boxplot(df['Count'])\n",
        "daily_steps(df1)"
      ],
      "outputs": [
        {
          "output_type": "display_data",
          "data": {
            "image/png": "[encoded data removed]",
            "text/plain": [
              "<Figure size 1440x216 with 2 Axes>"
            ]
          },
          "metadata": {
            "needs_background": "light"
          }
        },
        {
          "output_type": "display_data",
          "data": {
            "text/plain": [
              "<Figure size 640x480 with 0 Axes>"
            ]
          },
          "metadata": {}
        }
      ],
      "metadata": {
        "colab": {
          "base_uri": "https://localhost:8080/",
          "height": 244
        },
        "id": "ILg_nm4YoLib",
        "outputId": "09efcf79-a33f-4d6b-a3d4-c939b95e748a"
      }
    },
    {
      "cell_type": "code",
      "execution_count": 9,
      "source": [
        "daily_steps(df2)"
      ],
      "outputs": [
        {
          "output_type": "display_data",
          "data": {
            "image/png": "[encoded data removed]",
            "text/plain": [
              "<Figure size 1440x216 with 2 Axes>"
            ]
          },
          "metadata": {
            "needs_background": "light"
          }
        },
        {
          "output_type": "display_data",
          "data": {
            "text/plain": [
              "<Figure size 640x480 with 0 Axes>"
            ]
          },
          "metadata": {}
        }
      ],
      "metadata": {
        "colab": {
          "base_uri": "https://localhost:8080/",
          "height": 244
        },
        "id": "JD_NC8KpqGxs",
        "outputId": "559f70a7-c64e-48b9-f574-331e7fb90e87"
      }
    },
    {
      "cell_type": "markdown",
      "source": [
        "It seems that `person 2` has a higher average daily number of steps compared to \n",
        "`person 1` "
      ],
      "metadata": {
        "id": "aZ3oKOkvv-mD"
      }
    }
  ]
}