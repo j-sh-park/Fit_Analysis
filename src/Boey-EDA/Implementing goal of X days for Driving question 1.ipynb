{
 "cells": [
  {
   "cell_type": "markdown",
   "id": "60b41585",
   "metadata": {},
   "source": [
    "### This notebook was created to improve on my implementation of driving question 1, to take into account a user-defined step goal and have the plot based on that."
   ]
  },
  {
   "cell_type": "code",
   "execution_count": null,
   "id": "9774d6ab",
   "metadata": {},
   "outputs": [],
   "source": []
  }
 ],
 "metadata": {
  "kernelspec": {
   "display_name": "Python 3",
   "language": "python",
   "name": "python3"
  },
  "language_info": {
   "codemirror_mode": {
    "name": "ipython",
    "version": 3
   },
   "file_extension": ".py",
   "mimetype": "text/x-python",
   "name": "python",
   "nbconvert_exporter": "python",
   "pygments_lexer": "ipython3",
   "version": "3.8.12"
  }
 },
 "nbformat": 4,
 "nbformat_minor": 5
}
