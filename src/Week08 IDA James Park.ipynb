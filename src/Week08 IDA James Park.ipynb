{
 "cells": [
  {
   "cell_type": "markdown",
   "id": "skilled-heaven",
   "metadata": {},
   "source": [
    "## This notebook contains the initial data analyses of assignment 2. The purpose of the following analyses is largely exploratory."
   ]
  },
  {
   "cell_type": "code",
   "execution_count": 2,
   "id": "strategic-concord",
   "metadata": {},
   "outputs": [],
   "source": [
    "#import libraries we'll be using\n",
    "import pandas as pd\n",
    "import matplotlib.pyplot as plt"
   ]
  },
  {
   "cell_type": "code",
   "execution_count": 3,
   "id": "minute-scheduling",
   "metadata": {},
   "outputs": [],
   "source": [
    "#import data sets\n",
    "person1 = pd.read_csv('person1-step-data.csv')\n",
    "person2 = pd.read_csv('person2-step-data.csv')"
   ]
  },
  {
   "cell_type": "code",
   "execution_count": 7,
   "id": "answering-camera",
   "metadata": {},
   "outputs": [
    {
     "data": {
      "text/html": [
       "<div>\n",
       "<style scoped>\n",
       "    .dataframe tbody tr th:only-of-type {\n",
       "        vertical-align: middle;\n",
       "    }\n",
       "\n",
       "    .dataframe tbody tr th {\n",
       "        vertical-align: top;\n",
       "    }\n",
       "\n",
       "    .dataframe thead th {\n",
       "        text-align: right;\n",
       "    }\n",
       "</style>\n",
       "<table border=\"1\" class=\"dataframe\">\n",
       "  <thead>\n",
       "    <tr style=\"text-align: right;\">\n",
       "      <th></th>\n",
       "      <th>Source</th>\n",
       "      <th>Date</th>\n",
       "      <th>Hour</th>\n",
       "      <th>Count</th>\n",
       "    </tr>\n",
       "  </thead>\n",
       "  <tbody>\n",
       "    <tr>\n",
       "      <th>0</th>\n",
       "      <td>Person1 iPhone SE</td>\n",
       "      <td>2014-12-07</td>\n",
       "      <td>8</td>\n",
       "      <td>13</td>\n",
       "    </tr>\n",
       "    <tr>\n",
       "      <th>1</th>\n",
       "      <td>Person1 iPhone SE</td>\n",
       "      <td>2014-12-07</td>\n",
       "      <td>8</td>\n",
       "      <td>13</td>\n",
       "    </tr>\n",
       "    <tr>\n",
       "      <th>2</th>\n",
       "      <td>Person1 iPhone SE</td>\n",
       "      <td>2014-12-07</td>\n",
       "      <td>8</td>\n",
       "      <td>1</td>\n",
       "    </tr>\n",
       "    <tr>\n",
       "      <th>3</th>\n",
       "      <td>Person1 iPhone SE</td>\n",
       "      <td>2014-12-07</td>\n",
       "      <td>8</td>\n",
       "      <td>9</td>\n",
       "    </tr>\n",
       "    <tr>\n",
       "      <th>4</th>\n",
       "      <td>Person1 iPhone SE</td>\n",
       "      <td>2014-12-07</td>\n",
       "      <td>8</td>\n",
       "      <td>15</td>\n",
       "    </tr>\n",
       "    <tr>\n",
       "      <th>...</th>\n",
       "      <td>...</td>\n",
       "      <td>...</td>\n",
       "      <td>...</td>\n",
       "      <td>...</td>\n",
       "    </tr>\n",
       "    <tr>\n",
       "      <th>183782</th>\n",
       "      <td>Person1 iPhone SE</td>\n",
       "      <td>2021-09-22</td>\n",
       "      <td>17</td>\n",
       "      <td>1241</td>\n",
       "    </tr>\n",
       "    <tr>\n",
       "      <th>183783</th>\n",
       "      <td>Person1 iPhone SE</td>\n",
       "      <td>2021-09-22</td>\n",
       "      <td>17</td>\n",
       "      <td>1212</td>\n",
       "    </tr>\n",
       "    <tr>\n",
       "      <th>183784</th>\n",
       "      <td>Person1 iPhone SE</td>\n",
       "      <td>2021-09-22</td>\n",
       "      <td>18</td>\n",
       "      <td>808</td>\n",
       "    </tr>\n",
       "    <tr>\n",
       "      <th>183785</th>\n",
       "      <td>Person1 iPhone SE</td>\n",
       "      <td>2021-09-22</td>\n",
       "      <td>18</td>\n",
       "      <td>392</td>\n",
       "    </tr>\n",
       "    <tr>\n",
       "      <th>183786</th>\n",
       "      <td>Person1 iPhone SE</td>\n",
       "      <td>2021-09-22</td>\n",
       "      <td>18</td>\n",
       "      <td>34</td>\n",
       "    </tr>\n",
       "  </tbody>\n",
       "</table>\n",
       "<p>183787 rows × 4 columns</p>\n",
       "</div>"
      ],
      "text/plain": [
       "                   Source        Date  Hour  Count\n",
       "0       Person1 iPhone SE  2014-12-07     8     13\n",
       "1       Person1 iPhone SE  2014-12-07     8     13\n",
       "2       Person1 iPhone SE  2014-12-07     8      1\n",
       "3       Person1 iPhone SE  2014-12-07     8      9\n",
       "4       Person1 iPhone SE  2014-12-07     8     15\n",
       "...                   ...         ...   ...    ...\n",
       "183782  Person1 iPhone SE  2021-09-22    17   1241\n",
       "183783  Person1 iPhone SE  2021-09-22    17   1212\n",
       "183784  Person1 iPhone SE  2021-09-22    18    808\n",
       "183785  Person1 iPhone SE  2021-09-22    18    392\n",
       "183786  Person1 iPhone SE  2021-09-22    18     34\n",
       "\n",
       "[183787 rows x 4 columns]"
      ]
     },
     "execution_count": 7,
     "metadata": {},
     "output_type": "execute_result"
    }
   ],
   "source": [
    "#peak at person1 data set\n",
    "person1"
   ]
  },
  {
   "cell_type": "code",
   "execution_count": 6,
   "id": "provincial-casino",
   "metadata": {},
   "outputs": [
    {
     "data": {
      "text/html": [
       "<div>\n",
       "<style scoped>\n",
       "    .dataframe tbody tr th:only-of-type {\n",
       "        vertical-align: middle;\n",
       "    }\n",
       "\n",
       "    .dataframe tbody tr th {\n",
       "        vertical-align: top;\n",
       "    }\n",
       "\n",
       "    .dataframe thead th {\n",
       "        text-align: right;\n",
       "    }\n",
       "</style>\n",
       "<table border=\"1\" class=\"dataframe\">\n",
       "  <thead>\n",
       "    <tr style=\"text-align: right;\">\n",
       "      <th></th>\n",
       "      <th>Source</th>\n",
       "      <th>Date</th>\n",
       "      <th>Hour</th>\n",
       "      <th>Count</th>\n",
       "    </tr>\n",
       "  </thead>\n",
       "  <tbody>\n",
       "    <tr>\n",
       "      <th>0</th>\n",
       "      <td>Person2 Phone</td>\n",
       "      <td>2014-11-29</td>\n",
       "      <td>6</td>\n",
       "      <td>6</td>\n",
       "    </tr>\n",
       "    <tr>\n",
       "      <th>1</th>\n",
       "      <td>Person2 Phone</td>\n",
       "      <td>2014-11-29</td>\n",
       "      <td>6</td>\n",
       "      <td>4</td>\n",
       "    </tr>\n",
       "    <tr>\n",
       "      <th>2</th>\n",
       "      <td>Person2 Phone</td>\n",
       "      <td>2014-11-29</td>\n",
       "      <td>6</td>\n",
       "      <td>3</td>\n",
       "    </tr>\n",
       "    <tr>\n",
       "      <th>3</th>\n",
       "      <td>Person2 Phone</td>\n",
       "      <td>2014-11-29</td>\n",
       "      <td>6</td>\n",
       "      <td>9</td>\n",
       "    </tr>\n",
       "    <tr>\n",
       "      <th>4</th>\n",
       "      <td>Person2 Phone</td>\n",
       "      <td>2014-11-29</td>\n",
       "      <td>6</td>\n",
       "      <td>6</td>\n",
       "    </tr>\n",
       "    <tr>\n",
       "      <th>...</th>\n",
       "      <td>...</td>\n",
       "      <td>...</td>\n",
       "      <td>...</td>\n",
       "      <td>...</td>\n",
       "    </tr>\n",
       "    <tr>\n",
       "      <th>486254</th>\n",
       "      <td>Person2 Watch</td>\n",
       "      <td>2021-09-22</td>\n",
       "      <td>14</td>\n",
       "      <td>71</td>\n",
       "    </tr>\n",
       "    <tr>\n",
       "      <th>486255</th>\n",
       "      <td>Person2 Phone</td>\n",
       "      <td>2021-09-22</td>\n",
       "      <td>14</td>\n",
       "      <td>72</td>\n",
       "    </tr>\n",
       "    <tr>\n",
       "      <th>486256</th>\n",
       "      <td>Person2 Phone</td>\n",
       "      <td>2021-09-22</td>\n",
       "      <td>15</td>\n",
       "      <td>78</td>\n",
       "    </tr>\n",
       "    <tr>\n",
       "      <th>486257</th>\n",
       "      <td>Person2 Watch</td>\n",
       "      <td>2021-09-22</td>\n",
       "      <td>15</td>\n",
       "      <td>32</td>\n",
       "    </tr>\n",
       "    <tr>\n",
       "      <th>486258</th>\n",
       "      <td>Person2 Watch</td>\n",
       "      <td>2021-09-22</td>\n",
       "      <td>15</td>\n",
       "      <td>22</td>\n",
       "    </tr>\n",
       "  </tbody>\n",
       "</table>\n",
       "<p>486259 rows × 4 columns</p>\n",
       "</div>"
      ],
      "text/plain": [
       "               Source        Date  Hour  Count\n",
       "0       Person2 Phone  2014-11-29     6      6\n",
       "1       Person2 Phone  2014-11-29     6      4\n",
       "2       Person2 Phone  2014-11-29     6      3\n",
       "3       Person2 Phone  2014-11-29     6      9\n",
       "4       Person2 Phone  2014-11-29     6      6\n",
       "...               ...         ...   ...    ...\n",
       "486254  Person2 Watch  2021-09-22    14     71\n",
       "486255  Person2 Phone  2021-09-22    14     72\n",
       "486256  Person2 Phone  2021-09-22    15     78\n",
       "486257  Person2 Watch  2021-09-22    15     32\n",
       "486258  Person2 Watch  2021-09-22    15     22\n",
       "\n",
       "[486259 rows x 4 columns]"
      ]
     },
     "execution_count": 6,
     "metadata": {},
     "output_type": "execute_result"
    }
   ],
   "source": [
    "#peak at person2 data set\n",
    "person2"
   ]
  },
  {
   "cell_type": "code",
   "execution_count": 14,
   "id": "french-invasion",
   "metadata": {},
   "outputs": [
    {
     "name": "stdout",
     "output_type": "stream",
     "text": [
      "<class 'pandas.core.frame.DataFrame'>\n",
      "RangeIndex: 183787 entries, 0 to 183786\n",
      "Data columns (total 4 columns):\n",
      " #   Column  Non-Null Count   Dtype \n",
      "---  ------  --------------   ----- \n",
      " 0   Source  183787 non-null  object\n",
      " 1   Date    183787 non-null  object\n",
      " 2   Hour    183787 non-null  int64 \n",
      " 3   Count   183787 non-null  int64 \n",
      "dtypes: int64(2), object(2)\n",
      "memory usage: 4.2+ MB\n"
     ]
    }
   ],
   "source": [
    "#look at col names and data types\n",
    "person1.info()"
   ]
  },
  {
   "cell_type": "code",
   "execution_count": 15,
   "id": "reported-armenia",
   "metadata": {},
   "outputs": [
    {
     "name": "stdout",
     "output_type": "stream",
     "text": [
      "<class 'pandas.core.frame.DataFrame'>\n",
      "RangeIndex: 486259 entries, 0 to 486258\n",
      "Data columns (total 4 columns):\n",
      " #   Column  Non-Null Count   Dtype \n",
      "---  ------  --------------   ----- \n",
      " 0   Source  486259 non-null  object\n",
      " 1   Date    486259 non-null  object\n",
      " 2   Hour    486259 non-null  int64 \n",
      " 3   Count   486259 non-null  int64 \n",
      "dtypes: int64(2), object(2)\n",
      "memory usage: 11.1+ MB\n"
     ]
    }
   ],
   "source": [
    "person2.info()"
   ]
  },
  {
   "cell_type": "markdown",
   "id": "tutorial-bathroom",
   "metadata": {},
   "source": [
    "###We can see that both data sets have the same name and same datatype for each collumn. We can also see that the person2 data set has over double the sample size that the person1 data set has. It also appears that the source collumn refers to the device that the data was captured on."
   ]
  },
  {
   "cell_type": "code",
   "execution_count": 16,
   "id": "global-anthropology",
   "metadata": {},
   "outputs": [],
   "source": [
    "#drop na values\n",
    "df1 = person1.dropna()\n",
    "df2 = person2.dropna()"
   ]
  },
  {
   "cell_type": "code",
   "execution_count": 17,
   "id": "romance-spanking",
   "metadata": {},
   "outputs": [],
   "source": [
    "#we'll change the data type of the Date column to a datetime data type so that we can perform time sensitive analyses later on.\n",
    "df1['Date'] = pd.to_datetime(df1['Date'])\n",
    "df2['Date'] = pd.to_datetime(df2['Date'])"
   ]
  },
  {
   "cell_type": "code",
   "execution_count": 21,
   "id": "quiet-median",
   "metadata": {},
   "outputs": [
    {
     "name": "stdout",
     "output_type": "stream",
     "text": [
      "Person1 iPhone SE\n",
      "Person1 Mi Fit\n",
      "Person1 Misfit\n",
      "Person1 Health Mate\n",
      "Person1 Apple Watch\n",
      "Person2 Phone\n",
      "Person2 Watch\n"
     ]
    }
   ],
   "source": [
    "#get unique values for Source variable for both data sets\n",
    "for i in df1['Source'].unique():\n",
    "    print(i)\n",
    "for i in df2['Source'].unique():\n",
    "    print(i)"
   ]
  },
  {
   "cell_type": "markdown",
   "id": "balanced-doubt",
   "metadata": {},
   "source": [
    "###As we can see above, the person1 data set contains specific device names but the person2 data set only specifies whether it was a phone or a watch."
   ]
  },
  {
   "cell_type": "code",
   "execution_count": 23,
   "id": "incident-mongolia",
   "metadata": {},
   "outputs": [
    {
     "data": {
      "image/png": "[encoded data removed]",
      "text/plain": [
       "<Figure size 432x288 with 1 Axes>"
      ]
     },
     "metadata": {
      "needs_background": "light"
     },
     "output_type": "display_data"
    }
   ],
   "source": [
    "#person1 histogram of Source variable\n",
    "plt.hist(df1['Source'])"
   ]
  },
  {
   "cell_type": "code",
   "execution_count": 24,
   "id": "significant-discussion",
   "metadata": {},
   "outputs": [
    {
     "data": {
      "text/plain": [
       "(array([175629.,      0.,      0.,      0.,      0.,      0.,      0.,\n",
       "             0.,      0., 310630.]),\n",
       " array([0. , 0.1, 0.2, 0.3, 0.4, 0.5, 0.6, 0.7, 0.8, 0.9, 1. ]),\n",
       " <BarContainer object of 10 artists>)"
      ]
     },
     "execution_count": 24,
     "metadata": {},
     "output_type": "execute_result"
    },
    {
     "data": {
      "image/png": "[encoded data removed]",
      "text/plain": [
       "<Figure size 432x288 with 1 Axes>"
      ]
     },
     "metadata": {
      "needs_background": "light"
     },
     "output_type": "display_data"
    }
   ],
   "source": [
    "#person2 histogram of Source variable\n",
    "plt.hist(df2['Source'])"
   ]
  },
  {
   "cell_type": "markdown",
   "id": "upset-mercury",
   "metadata": {},
   "source": [
    "###While the first graph is hard to read, after some effort we can see that the amount of entries with in the person1 data set using Iphone SEs overshadow the other types of devices used. The second graph reveals that close to twice the number of devices used in the person2 data set are watches."
   ]
  }
 ],
 "metadata": {
  "kernelspec": {
   "display_name": "Python 3",
   "language": "python",
   "name": "python3"
  },
  "language_info": {
   "codemirror_mode": {
    "name": "ipython",
    "version": 3
   },
   "file_extension": ".py",
   "mimetype": "text/x-python",
   "name": "python",
   "nbconvert_exporter": "python",
   "pygments_lexer": "ipython3",
   "version": "3.8.5"
  }
 },
 "nbformat": 4,
 "nbformat_minor": 5
}
