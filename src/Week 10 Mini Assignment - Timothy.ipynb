{
 "cells": [
  {
   "cell_type": "markdown",
   "metadata": {},
   "source": [
    "# Week 10 Mini Assignment - Timothy D'Cruz"
   ]
  },
  {
   "cell_type": "markdown",
   "metadata": {},
   "source": [
    "## Data Exploration\n",
    "This notebook will be using libraries such as pandas and matplotlib to analyse and complete basic exploration on the datasets of person1-step and person2-step. This is an initial analysis and will provide findings as to trends and patterns in the step data. Furthermore, this notebook will be using the technique of literate programming to ensure the reproducibility and eligibility are maximised for the viewer\n",
    "\n",
    "Wiki Entry Link: https://github.sydney.edu.au/YHOW4819/2021-DATA3406-PRAC07-Group04/wiki/Timothy-D'Cruz \n",
    "\n",
    "### Driving Question 1: Did I achieve my goal of X steps more in the last 12 months than the 12 months before that?\n",
    "\n",
    "#### Driving Question 2: Do I have more steps on average during the weekend in comparison to a weekday?\n"
   ]
  },
  {
   "cell_type": "markdown",
   "metadata": {},
   "source": [
    "### Import Datasets\n",
    "Firstly, we will import the datasets. We then need to ensure the data is cleaned and in the appropriate types before we can perform analysis and visualisation techniques"
   ]
  },
  {
   "cell_type": "code",
   "execution_count": 128,
   "metadata": {},
   "outputs": [],
   "source": [
    "# First, we import the nessecary libraries for the analysis\n",
    "import pandas as pd\n",
    "import numpy as np\n",
    "import matplotlib.pyplot as plt\n",
    "import statistics\n",
    "\n",
    "# We assign these with the names pd and plt for easier use and efficiency"
   ]
  },
  {
   "cell_type": "code",
   "execution_count": 17,
   "metadata": {},
   "outputs": [
    {
     "data": {
      "text/html": [
       "<div>\n",
       "<style scoped>\n",
       "    .dataframe tbody tr th:only-of-type {\n",
       "        vertical-align: middle;\n",
       "    }\n",
       "\n",
       "    .dataframe tbody tr th {\n",
       "        vertical-align: top;\n",
       "    }\n",
       "\n",
       "    .dataframe thead th {\n",
       "        text-align: right;\n",
       "    }\n",
       "</style>\n",
       "<table border=\"1\" class=\"dataframe\">\n",
       "  <thead>\n",
       "    <tr style=\"text-align: right;\">\n",
       "      <th></th>\n",
       "      <th>Source</th>\n",
       "      <th>Date</th>\n",
       "      <th>Hour</th>\n",
       "      <th>Count</th>\n",
       "    </tr>\n",
       "  </thead>\n",
       "  <tbody>\n",
       "    <tr>\n",
       "      <th>0</th>\n",
       "      <td>Person1 iPhone SE</td>\n",
       "      <td>7/12/14</td>\n",
       "      <td>8</td>\n",
       "      <td>13</td>\n",
       "    </tr>\n",
       "    <tr>\n",
       "      <th>1</th>\n",
       "      <td>Person1 iPhone SE</td>\n",
       "      <td>7/12/14</td>\n",
       "      <td>8</td>\n",
       "      <td>13</td>\n",
       "    </tr>\n",
       "    <tr>\n",
       "      <th>2</th>\n",
       "      <td>Person1 iPhone SE</td>\n",
       "      <td>7/12/14</td>\n",
       "      <td>8</td>\n",
       "      <td>1</td>\n",
       "    </tr>\n",
       "    <tr>\n",
       "      <th>3</th>\n",
       "      <td>Person1 iPhone SE</td>\n",
       "      <td>7/12/14</td>\n",
       "      <td>8</td>\n",
       "      <td>9</td>\n",
       "    </tr>\n",
       "    <tr>\n",
       "      <th>4</th>\n",
       "      <td>Person1 iPhone SE</td>\n",
       "      <td>7/12/14</td>\n",
       "      <td>8</td>\n",
       "      <td>15</td>\n",
       "    </tr>\n",
       "  </tbody>\n",
       "</table>\n",
       "</div>"
      ],
      "text/plain": [
       "              Source     Date  Hour  Count\n",
       "0  Person1 iPhone SE  7/12/14     8     13\n",
       "1  Person1 iPhone SE  7/12/14     8     13\n",
       "2  Person1 iPhone SE  7/12/14     8      1\n",
       "3  Person1 iPhone SE  7/12/14     8      9\n",
       "4  Person1 iPhone SE  7/12/14     8     15"
      ]
     },
     "execution_count": 17,
     "metadata": {},
     "output_type": "execute_result"
    }
   ],
   "source": [
    "# We then import the datasets and do an initial visualisation of the table to ensure the contents are correct \n",
    "# We rename the data, Data_1 and Data_2 for simplicity when performing future analysis\n",
    "\n",
    "Data_1 = pd.read_csv('person1-step-data.csv')\n",
    "Data_2 = pd.read_csv('person2-step-data.csv')\n",
    "\n",
    "# We want to see the first few rows of the data so we apply head() function to ensure the data has imported correctly\n",
    "\n",
    "Data_1.head()"
   ]
  },
  {
   "cell_type": "code",
   "execution_count": 18,
   "metadata": {},
   "outputs": [
    {
     "data": {
      "text/html": [
       "<div>\n",
       "<style scoped>\n",
       "    .dataframe tbody tr th:only-of-type {\n",
       "        vertical-align: middle;\n",
       "    }\n",
       "\n",
       "    .dataframe tbody tr th {\n",
       "        vertical-align: top;\n",
       "    }\n",
       "\n",
       "    .dataframe thead th {\n",
       "        text-align: right;\n",
       "    }\n",
       "</style>\n",
       "<table border=\"1\" class=\"dataframe\">\n",
       "  <thead>\n",
       "    <tr style=\"text-align: right;\">\n",
       "      <th></th>\n",
       "      <th>Source</th>\n",
       "      <th>Date</th>\n",
       "      <th>Hour</th>\n",
       "      <th>Count</th>\n",
       "    </tr>\n",
       "  </thead>\n",
       "  <tbody>\n",
       "    <tr>\n",
       "      <th>0</th>\n",
       "      <td>Person2 Phone</td>\n",
       "      <td>29/11/14</td>\n",
       "      <td>6</td>\n",
       "      <td>6</td>\n",
       "    </tr>\n",
       "    <tr>\n",
       "      <th>1</th>\n",
       "      <td>Person2 Phone</td>\n",
       "      <td>29/11/14</td>\n",
       "      <td>6</td>\n",
       "      <td>4</td>\n",
       "    </tr>\n",
       "    <tr>\n",
       "      <th>2</th>\n",
       "      <td>Person2 Phone</td>\n",
       "      <td>29/11/14</td>\n",
       "      <td>6</td>\n",
       "      <td>3</td>\n",
       "    </tr>\n",
       "    <tr>\n",
       "      <th>3</th>\n",
       "      <td>Person2 Phone</td>\n",
       "      <td>29/11/14</td>\n",
       "      <td>6</td>\n",
       "      <td>9</td>\n",
       "    </tr>\n",
       "    <tr>\n",
       "      <th>4</th>\n",
       "      <td>Person2 Phone</td>\n",
       "      <td>29/11/14</td>\n",
       "      <td>6</td>\n",
       "      <td>6</td>\n",
       "    </tr>\n",
       "  </tbody>\n",
       "</table>\n",
       "</div>"
      ],
      "text/plain": [
       "          Source      Date  Hour  Count\n",
       "0  Person2 Phone  29/11/14     6      6\n",
       "1  Person2 Phone  29/11/14     6      4\n",
       "2  Person2 Phone  29/11/14     6      3\n",
       "3  Person2 Phone  29/11/14     6      9\n",
       "4  Person2 Phone  29/11/14     6      6"
      ]
     },
     "execution_count": 18,
     "metadata": {},
     "output_type": "execute_result"
    }
   ],
   "source": [
    "# Similarly we want to apply head() function to the second dataset aswell to ensure the data has imported correctly\n",
    "\n",
    "Data_2.head()"
   ]
  },
  {
   "cell_type": "markdown",
   "metadata": {},
   "source": [
    "## Issue 1: Clean the datasets for analysis\n",
    "\n",
    "Issue link: https://github.sydney.edu.au/YHOW4819/2021-DATA3406-PRAC07-Group04/issues/14"
   ]
  },
  {
   "cell_type": "markdown",
   "metadata": {},
   "source": [
    "### Initial Observations\n",
    "\n",
    "After performing the above techniques, we have successfully imported the datasets into our Jupyter Notebook. We further observe that there are various different data types such and numerical, date and string data types. To ensure each data entry is in the correct format we will perform analysis and make any changes where it is neccesary to. "
   ]
  },
  {
   "cell_type": "code",
   "execution_count": 29,
   "metadata": {},
   "outputs": [
    {
     "name": "stdout",
     "output_type": "stream",
     "text": [
      "Source            object\n",
      "Date      datetime64[ns]\n",
      "Hour               int64\n",
      "Count              int64\n",
      "dtype: object\n"
     ]
    }
   ],
   "source": [
    "# We will now visualise the types of the first person step data \n",
    "print(Data_1.dtypes)"
   ]
  },
  {
   "cell_type": "code",
   "execution_count": 30,
   "metadata": {},
   "outputs": [
    {
     "name": "stdout",
     "output_type": "stream",
     "text": [
      "Source            object\n",
      "Date      datetime64[ns]\n",
      "Hour               int64\n",
      "Count              int64\n",
      "dtype: object\n"
     ]
    }
   ],
   "source": [
    "# We will now visualise the types of the second person's step data \n",
    "print(Data_2.dtypes)"
   ]
  },
  {
   "cell_type": "markdown",
   "metadata": {},
   "source": [
    "#### Types\n",
    "As seen in the results above, count, hour and source data types are in the correct format. However, the Date is in the format of \"object\". We want to change this to the appropriate date format. Thus, in the code below we will change the 'Date' column to an appropriate datetime format using the pandas library."
   ]
  },
  {
   "cell_type": "code",
   "execution_count": 31,
   "metadata": {},
   "outputs": [],
   "source": [
    "# Thus, we will change the date to a pandas date format\n",
    "Data_1['Date'] = pd.to_datetime(Data_1['Date'])\n",
    "Data_2['Date'] = pd.to_datetime(Data_2['Date'])"
   ]
  },
  {
   "cell_type": "markdown",
   "metadata": {},
   "source": [
    "#### NA Values\n",
    "For further cleaning, we will be dropping the rows with any NA values. To do so we will use the function dropna(). This will allow use to clean the data and remove any NA values."
   ]
  },
  {
   "cell_type": "code",
   "execution_count": 32,
   "metadata": {},
   "outputs": [],
   "source": [
    "# For further cleaning, we will drop all NA values\n",
    "\n",
    "Data_1_clean = Data_1.dropna()\n",
    "Data_2_clean = Data_2.dropna()"
   ]
  },
  {
   "cell_type": "markdown",
   "metadata": {},
   "source": [
    "#### Data entry lengths\n",
    "To further clean the data, we check that there is no row length variance between the two datasets. To do so, we will firstly use the len() function on the clean datasets to check the number of row entries. We will then minus the lengths. If the result is 0, there is no entry variance. "
   ]
  },
  {
   "cell_type": "code",
   "execution_count": 36,
   "metadata": {},
   "outputs": [
    {
     "data": {
      "text/plain": [
       "-302472"
      ]
     },
     "execution_count": 36,
     "metadata": {},
     "output_type": "execute_result"
    }
   ],
   "source": [
    "# Check the length of each clean dataset using len() function\n",
    "\n",
    "Data_1_row_len = len(Data_1_clean.index)\n",
    "Data_2_row_len = len(Data_2_clean.index)\n",
    "\n",
    "# Now check for potenital row variance by subtracting the row variances\n",
    "\n",
    "Variance = Data_1_row_len - Data_2_row_len\n",
    "Variance"
   ]
  },
  {
   "cell_type": "markdown",
   "metadata": {},
   "source": [
    "Thus, we can see there is a fairly large row variance. A number of -302472 indicates that Person2 has 302472 more entries of step data than Person1. However, this does not raise to much concern as the datasets will be analysed separately and thus does not need to have 0 variance. "
   ]
  },
  {
   "cell_type": "markdown",
   "metadata": {},
   "source": [
    "### Checking and converting to monthly and yearly step count to perform and create analysis for the group's driving problem\n",
    "\n",
    "Now that we can cleaned the data, it is now ready to be sorted for analysis. To do so we must firstly generate the monthly step data. To do so we will firstly use the groupby() function and Pandas' Grouper function to sort the data into frequencies of month. We group using the key as 'Date' and Freq using 'M' representative of monthly data. "
   ]
  },
  {
   "cell_type": "code",
   "execution_count": 55,
   "metadata": {},
   "outputs": [
    {
     "name": "stdout",
     "output_type": "stream",
     "text": [
      "Person 1 Step Count by Month\n",
      "             Hour  Count\n",
      "Date                   \n",
      "2014-07-31  1980   2693\n",
      "2014-08-31  7602   6567\n",
      "2014-09-30  5918   6879\n",
      "2014-10-31  6229   7845\n",
      "2014-11-30  1210    916\n",
      "Person 1 Step Count by Month\n",
      "              Hour  Count\n",
      "Date                    \n",
      "2014-01-31   9739   6672\n",
      "2014-02-28   2146   9658\n",
      "2014-03-31   2673   1709\n",
      "2014-04-30  14566  10727\n",
      "2014-05-31   6178   4170\n"
     ]
    }
   ],
   "source": [
    "# Using the pd grouper and groupby function we sort the date data by month\n",
    "\n",
    "Monthly_Data_1 = Data_1.groupby(pd.Grouper(key='Date',freq='M')).sum()\n",
    "\n",
    "# To count (using the sum() function) and print the data we use print function to visualise the sorted data the data\n",
    "\n",
    "print(\"Person 1 Step Count by Month\\n\", Monthly_Data_1.head())\n",
    "\n",
    "# We then perform the same techniques to the second person's step data\n",
    "\n",
    "Monthly_Data_2 = Data_2.groupby(pd.Grouper(key='Date',freq='M')).sum()\n",
    "\n",
    "print(\"Person 1 Step Count by Month\\n\", Monthly_Data_2.head())\n"
   ]
  },
  {
   "cell_type": "markdown",
   "metadata": {},
   "source": [
    "Thus, we have observed that our sorting has performed correctly for the month data. Thus, we will replicate these steps and techniques to sort the data into frequencies of year. "
   ]
  },
  {
   "cell_type": "code",
   "execution_count": 98,
   "metadata": {},
   "outputs": [
    {
     "name": "stdout",
     "output_type": "stream",
     "text": [
      "Person 1 Step Count by Month\n",
      "                Hour    Count\n",
      "Date                        \n",
      "2014-12-31   112994   111590\n",
      "2015-12-31  1075484  1582971\n",
      "2016-12-31    90648  1742364\n",
      "2017-12-31   275369  1800474\n",
      "2018-12-31   235034  2339228\n",
      "Person 1 Step Count by Month\n",
      "                Hour    Count\n",
      "Date                        \n",
      "2014-12-31   287590   199813\n",
      "2015-12-31  1239800  3843685\n",
      "2016-12-31   953628  5335886\n",
      "2017-12-31   798618  5482973\n",
      "2018-12-31   839743  5869950\n"
     ]
    }
   ],
   "source": [
    "# Using the pd grouper and groupby function we sort the date data by year\n",
    "\n",
    "Yearly_Data_1 = Data_1.groupby(pd.Grouper(key='Date',freq='Y')).sum()\n",
    "\n",
    "# To count (using the sum() function) and print the data we use print function to visualise the sorted data the data\n",
    "\n",
    "print(\"Person 1 Step Count by Month\\n\", Yearly_Data_1.head())\n",
    "\n",
    "# We then perform the same techniques to the second person's step data\n",
    "\n",
    "Yearly_Data_2 = Data_2.groupby(pd.Grouper(key='Date',freq='Y')).sum()\n",
    "\n",
    "print(\"Person 1 Step Count by Month\\n\", Yearly_Data_2.head())"
   ]
  },
  {
   "cell_type": "markdown",
   "metadata": {},
   "source": [
    "Thus, we have observed that our sorting has performed correctly for the yearly data aswell."
   ]
  },
  {
   "cell_type": "markdown",
   "metadata": {},
   "source": [
    "## Issue 2: Perform Visualisation Techniques on the sorted data\n",
    "\n",
    "Issue Link: https://github.sydney.edu.au/YHOW4819/2021-DATA3406-PRAC07-Group04/issues/3"
   ]
  },
  {
   "cell_type": "markdown",
   "metadata": {},
   "source": [
    "Now that the data is sorted appropriately, we will now start to find observations and ideas for our driving question. To do so, we will apply some visualisation techniques for analysis of both the monthly and yearly step data. "
   ]
  },
  {
   "cell_type": "code",
   "execution_count": 101,
   "metadata": {},
   "outputs": [],
   "source": [
    "# To start, we isolate the count data to perform visualisation techniques, we transfer it into a data frame using pd.DataFrame\n",
    "\n",
    "Monthly_Count_Data_1 = pd.DataFrame(data = Monthly_Data_1['Count'])\n",
    "Monthly_Count_Data_2 = pd.DataFrame(data = Monthly_Data_2['Count'])\n",
    "\n",
    "# Repeat the same process for yearly step data\n",
    "\n",
    "Yearly_Count_Data_1 = pd.DataFrame(data = Yearly_Data_1['Count'])\n",
    "Yearly_Count_Data_2 = pd.DataFrame(data = Yearly_Data_2['Count'])"
   ]
  },
  {
   "cell_type": "code",
   "execution_count": 121,
   "metadata": {},
   "outputs": [
    {
     "data": {
      "text/plain": [
       "<matplotlib.legend.Legend at 0x125fee4e0>"
      ]
     },
     "execution_count": 121,
     "metadata": {},
     "output_type": "execute_result"
    },
    {
     "data": {
      "image/png": "[encoded data removed]",
      "text/plain": [
       "<Figure size 432x288 with 1 Axes>"
      ]
     },
     "metadata": {
      "needs_background": "light"
     },
     "output_type": "display_data"
    }
   ],
   "source": [
    "# We then use the data and plot a simple line chart using the plt.plot() function to gain some initial insight\n",
    "\n",
    "plt.plot(Monthly_Count_Data_1)\n",
    "plt.plot(Monthly_Count_Data_2)\n",
    "\n",
    "# We then add a title, x/y axis labels and a legend to help the viewer understand the visualisation better\n",
    "\n",
    "plt.title(\"Monthly Count Data - Person 1 vs Person 2\")\n",
    "plt.xlabel(\"Time\")\n",
    "plt.ylabel(\"Step Count\")\n",
    "plt.legend(\"12\")"
   ]
  },
  {
   "cell_type": "code",
   "execution_count": 120,
   "metadata": {},
   "outputs": [
    {
     "data": {
      "text/plain": [
       "<matplotlib.legend.Legend at 0x125f0a3c8>"
      ]
     },
     "execution_count": 120,
     "metadata": {},
     "output_type": "execute_result"
    },
    {
     "data": {
      "image/png": "[encoded data removed]",
      "text/plain": [
       "<Figure size 432x288 with 1 Axes>"
      ]
     },
     "metadata": {
      "needs_background": "light"
     },
     "output_type": "display_data"
    }
   ],
   "source": [
    "# We repeat the above process to observed the smoothing of the data using yearly figures\n",
    "\n",
    "plt.plot(Yearly_Count_Data_1)\n",
    "plt.plot(Yearly_Count_Data_2)\n",
    "\n",
    "# We then add a title, x/y axis labels and a legend to help the viewer understand the visualisation better\n",
    "\n",
    "plt.title(\"Yearly Count Data - Person 1 vs Person 2\")\n",
    "plt.xlabel(\"Time\")\n",
    "plt.ylabel(\"Step Count\")\n",
    "plt.legend(\"12\")"
   ]
  },
  {
   "cell_type": "markdown",
   "metadata": {},
   "source": [
    "From the initial analysis and obversations we can see that person 2 has a higher step count over the period. Towards the end of the periods we can see a slight conversion (in graph 1) where by each person appears to be roughly completing the same amount of steps. These graphs however do not help us solve the driving question. From initial analysis we can see a slight upward trend in some periods. This may indicate the potential of yearly step goal being met. However, we will need to conduct more indepth analysis to gain more insights into the driving question. "
   ]
  },
  {
   "cell_type": "markdown",
   "metadata": {},
   "source": [
    "### Interesting trend\n",
    "By visualising the first graph, we can see a spike at the start of each year especially in person 1. This spike may represent new year goals to increase walking or step count. This spike is almost seen at the start of every year and decreases signficiantly as the year progresses. Could this affect the results of the driving question? It would have to depend on the selected period that is representative of 12 months. "
   ]
  },
  {
   "cell_type": "markdown",
   "metadata": {},
   "source": [
    "### Issue 3: Defining step goal\n",
    "\n",
    "Before we can create visualisations to answer our driving question we have to define and make an assumption about what each individual's goals are. Once we have defined this, we can make an analysis as to whether or not the goals has been met.\n",
    "\n",
    "Issue link: https://github.sydney.edu.au/YHOW4819/2021-DATA3406-PRAC07-Group04/issues/15\n"
   ]
  },
  {
   "cell_type": "markdown",
   "metadata": {},
   "source": [
    "Research has deduced that an appropriate daily step goal of 10,000 is healthy and most common amongst individuals (Rieck, 2020). This was common amongst both males and females and is recommended from a medical stand point for increases in health and fitness. Thus, we will assume a daily step goal of 10,000 for our analysis\n",
    "\n",
    "Article: https://www.mayoclinic.org/healthy-lifestyle/fitness/in-depth/10000-steps/art-20317391#:~:text=The%20average%20American%20walks%203%2C000,a%20day%20every%20two%20weeks."
   ]
  },
  {
   "cell_type": "code",
   "execution_count": null,
   "metadata": {},
   "outputs": [],
   "source": []
  },
  {
   "cell_type": "markdown",
   "metadata": {},
   "source": [
    "### The leading comment cells explaining the purpose of the work you will do\n",
    "- Ethical analysis and any potential bias in everyone's graphs and analysis\n",
    "- Ethical analysis and any potential bias in everyone's graphs and analysis\n",
    "- Further analysis into the driving question 2\n",
    "- The completion and presentation of associated slides to the work\n",
    "- Further potential cleaning related to outliers and incorrect values\n",
    "- Review of all literate programming from other people to ensure legibility clear understanding\n",
    "\n"
   ]
  },
  {
   "cell_type": "markdown",
   "metadata": {},
   "source": [
    "#### Ethical analysis and any potential bias in everyone's graphs and analysis\n",
    "- I have been assigned this section of the assignment 2. I will be analysing all the graphs put forward by other group members\n",
    "- I will make comments on the potential ethical biases that have occured the how they may skewed and affect the results and findings\n",
    "- From this we will further discuss methods and ways to reduce the effects of such biases and any potential future planning to reduced the implications of bias"
   ]
  },
  {
   "cell_type": "code",
   "execution_count": null,
   "metadata": {},
   "outputs": [],
   "source": []
  },
  {
   "cell_type": "code",
   "execution_count": null,
   "metadata": {},
   "outputs": [],
   "source": []
  }
 ],
 "metadata": {
  "kernelspec": {
   "display_name": "Python 3",
   "language": "python",
   "name": "python3"
  },
  "language_info": {
   "codemirror_mode": {
    "name": "ipython",
    "version": 3
   },
   "file_extension": ".py",
   "mimetype": "text/x-python",
   "name": "python",
   "nbconvert_exporter": "python",
   "pygments_lexer": "ipython3",
   "version": "3.7.3"
  }
 },
 "nbformat": 4,
 "nbformat_minor": 2
}
