{
 "cells": [
  {
   "cell_type": "markdown",
   "metadata": {},
   "source": [
    "Import the pandas library into the python environment."
   ]
  },
  {
   "cell_type": "code",
   "execution_count": 1,
   "metadata": {},
   "outputs": [],
   "source": [
    "import pandas as pd\n",
    "import matplotlib.pyplot as plt"
   ]
  },
  {
   "cell_type": "markdown",
   "metadata": {},
   "source": [
    "Load the two data files into the environment for further data analysis."
   ]
  },
  {
   "cell_type": "code",
   "execution_count": 2,
   "metadata": {},
   "outputs": [],
   "source": [
    "person_1 = pd.read_csv('person1-step-data.csv')\n",
    "person_2 = pd.read_csv('person2-step-data.csv')"
   ]
  },
  {
   "cell_type": "markdown",
   "metadata": {},
   "source": [
    "Print the first person data set to see the file upload was successful."
   ]
  },
  {
   "cell_type": "code",
   "execution_count": 3,
   "metadata": {},
   "outputs": [
    {
     "data": {
      "text/html": [
       "<div>\n",
       "<style scoped>\n",
       "    .dataframe tbody tr th:only-of-type {\n",
       "        vertical-align: middle;\n",
       "    }\n",
       "\n",
       "    .dataframe tbody tr th {\n",
       "        vertical-align: top;\n",
       "    }\n",
       "\n",
       "    .dataframe thead th {\n",
       "        text-align: right;\n",
       "    }\n",
       "</style>\n",
       "<table border=\"1\" class=\"dataframe\">\n",
       "  <thead>\n",
       "    <tr style=\"text-align: right;\">\n",
       "      <th></th>\n",
       "      <th>Source</th>\n",
       "      <th>Date</th>\n",
       "      <th>Hour</th>\n",
       "      <th>Count</th>\n",
       "    </tr>\n",
       "  </thead>\n",
       "  <tbody>\n",
       "    <tr>\n",
       "      <th>0</th>\n",
       "      <td>Person1 iPhone SE</td>\n",
       "      <td>2014-12-07</td>\n",
       "      <td>8</td>\n",
       "      <td>13</td>\n",
       "    </tr>\n",
       "    <tr>\n",
       "      <th>1</th>\n",
       "      <td>Person1 iPhone SE</td>\n",
       "      <td>2014-12-07</td>\n",
       "      <td>8</td>\n",
       "      <td>13</td>\n",
       "    </tr>\n",
       "    <tr>\n",
       "      <th>2</th>\n",
       "      <td>Person1 iPhone SE</td>\n",
       "      <td>2014-12-07</td>\n",
       "      <td>8</td>\n",
       "      <td>1</td>\n",
       "    </tr>\n",
       "    <tr>\n",
       "      <th>3</th>\n",
       "      <td>Person1 iPhone SE</td>\n",
       "      <td>2014-12-07</td>\n",
       "      <td>8</td>\n",
       "      <td>9</td>\n",
       "    </tr>\n",
       "    <tr>\n",
       "      <th>4</th>\n",
       "      <td>Person1 iPhone SE</td>\n",
       "      <td>2014-12-07</td>\n",
       "      <td>8</td>\n",
       "      <td>15</td>\n",
       "    </tr>\n",
       "    <tr>\n",
       "      <th>...</th>\n",
       "      <td>...</td>\n",
       "      <td>...</td>\n",
       "      <td>...</td>\n",
       "      <td>...</td>\n",
       "    </tr>\n",
       "    <tr>\n",
       "      <th>183782</th>\n",
       "      <td>Person1 iPhone SE</td>\n",
       "      <td>2021-09-22</td>\n",
       "      <td>17</td>\n",
       "      <td>1241</td>\n",
       "    </tr>\n",
       "    <tr>\n",
       "      <th>183783</th>\n",
       "      <td>Person1 iPhone SE</td>\n",
       "      <td>2021-09-22</td>\n",
       "      <td>17</td>\n",
       "      <td>1212</td>\n",
       "    </tr>\n",
       "    <tr>\n",
       "      <th>183784</th>\n",
       "      <td>Person1 iPhone SE</td>\n",
       "      <td>2021-09-22</td>\n",
       "      <td>18</td>\n",
       "      <td>808</td>\n",
       "    </tr>\n",
       "    <tr>\n",
       "      <th>183785</th>\n",
       "      <td>Person1 iPhone SE</td>\n",
       "      <td>2021-09-22</td>\n",
       "      <td>18</td>\n",
       "      <td>392</td>\n",
       "    </tr>\n",
       "    <tr>\n",
       "      <th>183786</th>\n",
       "      <td>Person1 iPhone SE</td>\n",
       "      <td>2021-09-22</td>\n",
       "      <td>18</td>\n",
       "      <td>34</td>\n",
       "    </tr>\n",
       "  </tbody>\n",
       "</table>\n",
       "<p>183787 rows × 4 columns</p>\n",
       "</div>"
      ],
      "text/plain": [
       "                   Source        Date  Hour  Count\n",
       "0       Person1 iPhone SE  2014-12-07     8     13\n",
       "1       Person1 iPhone SE  2014-12-07     8     13\n",
       "2       Person1 iPhone SE  2014-12-07     8      1\n",
       "3       Person1 iPhone SE  2014-12-07     8      9\n",
       "4       Person1 iPhone SE  2014-12-07     8     15\n",
       "...                   ...         ...   ...    ...\n",
       "183782  Person1 iPhone SE  2021-09-22    17   1241\n",
       "183783  Person1 iPhone SE  2021-09-22    17   1212\n",
       "183784  Person1 iPhone SE  2021-09-22    18    808\n",
       "183785  Person1 iPhone SE  2021-09-22    18    392\n",
       "183786  Person1 iPhone SE  2021-09-22    18     34\n",
       "\n",
       "[183787 rows x 4 columns]"
      ]
     },
     "execution_count": 3,
     "metadata": {},
     "output_type": "execute_result"
    }
   ],
   "source": [
    "person_1"
   ]
  },
  {
   "cell_type": "markdown",
   "metadata": {},
   "source": [
    "Print the second person data set to see the file upload was successful."
   ]
  },
  {
   "cell_type": "code",
   "execution_count": 4,
   "metadata": {},
   "outputs": [
    {
     "data": {
      "text/html": [
       "<div>\n",
       "<style scoped>\n",
       "    .dataframe tbody tr th:only-of-type {\n",
       "        vertical-align: middle;\n",
       "    }\n",
       "\n",
       "    .dataframe tbody tr th {\n",
       "        vertical-align: top;\n",
       "    }\n",
       "\n",
       "    .dataframe thead th {\n",
       "        text-align: right;\n",
       "    }\n",
       "</style>\n",
       "<table border=\"1\" class=\"dataframe\">\n",
       "  <thead>\n",
       "    <tr style=\"text-align: right;\">\n",
       "      <th></th>\n",
       "      <th>Source</th>\n",
       "      <th>Date</th>\n",
       "      <th>Hour</th>\n",
       "      <th>Count</th>\n",
       "    </tr>\n",
       "  </thead>\n",
       "  <tbody>\n",
       "    <tr>\n",
       "      <th>0</th>\n",
       "      <td>Person2 Phone</td>\n",
       "      <td>2014-11-29</td>\n",
       "      <td>6</td>\n",
       "      <td>6</td>\n",
       "    </tr>\n",
       "    <tr>\n",
       "      <th>1</th>\n",
       "      <td>Person2 Phone</td>\n",
       "      <td>2014-11-29</td>\n",
       "      <td>6</td>\n",
       "      <td>4</td>\n",
       "    </tr>\n",
       "    <tr>\n",
       "      <th>2</th>\n",
       "      <td>Person2 Phone</td>\n",
       "      <td>2014-11-29</td>\n",
       "      <td>6</td>\n",
       "      <td>3</td>\n",
       "    </tr>\n",
       "    <tr>\n",
       "      <th>3</th>\n",
       "      <td>Person2 Phone</td>\n",
       "      <td>2014-11-29</td>\n",
       "      <td>6</td>\n",
       "      <td>9</td>\n",
       "    </tr>\n",
       "    <tr>\n",
       "      <th>4</th>\n",
       "      <td>Person2 Phone</td>\n",
       "      <td>2014-11-29</td>\n",
       "      <td>6</td>\n",
       "      <td>6</td>\n",
       "    </tr>\n",
       "    <tr>\n",
       "      <th>...</th>\n",
       "      <td>...</td>\n",
       "      <td>...</td>\n",
       "      <td>...</td>\n",
       "      <td>...</td>\n",
       "    </tr>\n",
       "    <tr>\n",
       "      <th>486254</th>\n",
       "      <td>Person2 Watch</td>\n",
       "      <td>2021-09-22</td>\n",
       "      <td>14</td>\n",
       "      <td>71</td>\n",
       "    </tr>\n",
       "    <tr>\n",
       "      <th>486255</th>\n",
       "      <td>Person2 Phone</td>\n",
       "      <td>2021-09-22</td>\n",
       "      <td>14</td>\n",
       "      <td>72</td>\n",
       "    </tr>\n",
       "    <tr>\n",
       "      <th>486256</th>\n",
       "      <td>Person2 Phone</td>\n",
       "      <td>2021-09-22</td>\n",
       "      <td>15</td>\n",
       "      <td>78</td>\n",
       "    </tr>\n",
       "    <tr>\n",
       "      <th>486257</th>\n",
       "      <td>Person2 Watch</td>\n",
       "      <td>2021-09-22</td>\n",
       "      <td>15</td>\n",
       "      <td>32</td>\n",
       "    </tr>\n",
       "    <tr>\n",
       "      <th>486258</th>\n",
       "      <td>Person2 Watch</td>\n",
       "      <td>2021-09-22</td>\n",
       "      <td>15</td>\n",
       "      <td>22</td>\n",
       "    </tr>\n",
       "  </tbody>\n",
       "</table>\n",
       "<p>486259 rows × 4 columns</p>\n",
       "</div>"
      ],
      "text/plain": [
       "               Source        Date  Hour  Count\n",
       "0       Person2 Phone  2014-11-29     6      6\n",
       "1       Person2 Phone  2014-11-29     6      4\n",
       "2       Person2 Phone  2014-11-29     6      3\n",
       "3       Person2 Phone  2014-11-29     6      9\n",
       "4       Person2 Phone  2014-11-29     6      6\n",
       "...               ...         ...   ...    ...\n",
       "486254  Person2 Watch  2021-09-22    14     71\n",
       "486255  Person2 Phone  2021-09-22    14     72\n",
       "486256  Person2 Phone  2021-09-22    15     78\n",
       "486257  Person2 Watch  2021-09-22    15     32\n",
       "486258  Person2 Watch  2021-09-22    15     22\n",
       "\n",
       "[486259 rows x 4 columns]"
      ]
     },
     "execution_count": 4,
     "metadata": {},
     "output_type": "execute_result"
    }
   ],
   "source": [
    "person_2"
   ]
  },
  {
   "cell_type": "markdown",
   "metadata": {},
   "source": [
    "Find out what data type each column is for each person, for easier data cleaning in future analysis."
   ]
  },
  {
   "cell_type": "code",
   "execution_count": 5,
   "metadata": {},
   "outputs": [
    {
     "name": "stdout",
     "output_type": "stream",
     "text": [
      "Person 1\n",
      " Source    object\n",
      "Date      object\n",
      "Hour       int64\n",
      "Count      int64\n",
      "dtype: object\n",
      "Person 2\n",
      " Source    object\n",
      "Date      object\n",
      "Hour       int64\n",
      "Count      int64\n",
      "dtype: object\n"
     ]
    }
   ],
   "source": [
    "print(\"Person 1\\n\", person_1.dtypes)\n",
    "print(\"Person 2\\n\", person_2.dtypes)"
   ]
  },
  {
   "cell_type": "markdown",
   "metadata": {},
   "source": [
    "The data type for 'Source' is object, 'Date' is object, 'Hour' is int64, 'Count' is int64. Therefore, we need to change the date into a date-type for time-series data analysis."
   ]
  },
  {
   "cell_type": "code",
   "execution_count": 6,
   "metadata": {},
   "outputs": [],
   "source": [
    "person_1['Date'] = pd.to_datetime(person_1['Date'])\n",
    "person_2['Date'] = pd.to_datetime(person_2['Date'])"
   ]
  },
  {
   "cell_type": "markdown",
   "metadata": {},
   "source": [
    "Check if the date data is converted to date format."
   ]
  },
  {
   "cell_type": "code",
   "execution_count": 7,
   "metadata": {},
   "outputs": [
    {
     "name": "stdout",
     "output_type": "stream",
     "text": [
      "Person 1\n",
      " Source            object\n",
      "Date      datetime64[ns]\n",
      "Hour               int64\n",
      "Count              int64\n",
      "dtype: object\n",
      "Person 2\n",
      " Source            object\n",
      "Date      datetime64[ns]\n",
      "Hour               int64\n",
      "Count              int64\n",
      "dtype: object\n"
     ]
    }
   ],
   "source": [
    "print(\"Person 1\\n\", person_1.dtypes)\n",
    "print(\"Person 2\\n\", person_2.dtypes)"
   ]
  },
  {
   "cell_type": "markdown",
   "metadata": {},
   "source": [
    "Count the number of rows each data set has, to do some comparative analysis on both datasets."
   ]
  },
  {
   "cell_type": "code",
   "execution_count": 8,
   "metadata": {},
   "outputs": [
    {
     "name": "stdout",
     "output_type": "stream",
     "text": [
      "P1:183787 and P2:486259\n",
      "Row Variance: 302472\n"
     ]
    }
   ],
   "source": [
    "p1_rows = len(person_1.index)\n",
    "p2_rows = len(person_2.index)\n",
    "if p1_rows != p2_rows:\n",
    "    print(\"P1:{} and P2:{}\".format(p1_rows, p2_rows))\n",
    "    print(\"Row Variance: {}\".format(abs(p1_rows - p2_rows)))"
   ]
  },
  {
   "cell_type": "markdown",
   "metadata": {},
   "source": [
    "We can see that there is a large gap between both data sets. There is a 302,472 row variance between person 1 and person 2."
   ]
  },
  {
   "cell_type": "markdown",
   "metadata": {},
   "source": [
    "Check the fitness sources of each person."
   ]
  },
  {
   "cell_type": "code",
   "execution_count": 9,
   "metadata": {},
   "outputs": [
    {
     "name": "stdout",
     "output_type": "stream",
     "text": [
      "Person1 iPhone SE\n",
      "Person1 Mi Fit\n",
      "Person1 Misfit\n",
      "Person1 Health Mate\n",
      "Person1 Apple Watch\n",
      "\n",
      "Person2 Phone\n",
      "Person2 Watch\n"
     ]
    }
   ],
   "source": [
    "for x in person_1['Source'].unique():\n",
    "    print(x)\n",
    "print(\"\")\n",
    "for y in person_2['Source'].unique():\n",
    "    print(y)"
   ]
  },
  {
   "cell_type": "markdown",
   "metadata": {},
   "source": [
    "We can see further, that the source in the data for person 2 only lists two vague sources of data collection, but there are more specific sources of data collection for person 1."
   ]
  },
  {
   "cell_type": "markdown",
   "metadata": {},
   "source": [
    "Count and print the steps for each person using monthly step count sum and yearly step count sum."
   ]
  },
  {
   "cell_type": "code",
   "execution_count": 10,
   "metadata": {},
   "outputs": [
    {
     "name": "stdout",
     "output_type": "stream",
     "text": [
      "Person 1 Step Count by Month\n",
      "              Count\n",
      "Date              \n",
      "2014-12-31  111590\n",
      "2015-01-31  131321\n",
      "2015-02-28  106851\n",
      "2015-03-31  101621\n",
      "2015-04-30   91726\n",
      "...            ...\n",
      "2021-05-31  518898\n",
      "2021-06-30  406440\n",
      "2021-07-31  360565\n",
      "2021-08-31  321087\n",
      "2021-09-30  205743\n",
      "\n",
      "[82 rows x 1 columns]\n",
      "Person 1 Step Count by Month\n",
      "              Count\n",
      "Date              \n",
      "2014-12-31  111590\n",
      "2015-01-31  131321\n",
      "2015-02-28  106851\n",
      "2015-03-31  101621\n",
      "2015-04-30   91726\n",
      "...            ...\n",
      "2021-05-31  518898\n",
      "2021-06-30  406440\n",
      "2021-07-31  360565\n",
      "2021-08-31  321087\n",
      "2021-09-30  205743\n",
      "\n",
      "[82 rows x 1 columns]\n"
     ]
    }
   ],
   "source": [
    "MonthlyStep_1 = person_1.groupby(pd.Grouper(key='Date',freq='M')).sum()\n",
    "print(\"Person 1 Step Count by Month\\n\", MonthlyStep_1.iloc[:,1::2])\n",
    "MonthlyStep_2 = person_2.groupby(pd.Grouper(key='Date',freq='M')).sum()\n",
    "print(\"Person 1 Step Count by Month\\n\", MonthlyStep_1.iloc[:,1::2])"
   ]
  },
  {
   "cell_type": "code",
   "execution_count": 11,
   "metadata": {},
   "outputs": [
    {
     "name": "stdout",
     "output_type": "stream",
     "text": [
      "Person 1 Step Count by Year\n",
      "               Count\n",
      "Date               \n",
      "2014-12-31   111590\n",
      "2015-12-31  1582971\n",
      "2016-12-31  1742364\n",
      "2017-12-31  1800474\n",
      "2018-12-31  2339228\n",
      "2019-12-31  2824389\n",
      "2020-12-31  1239702\n",
      "2021-12-31  3023933\n",
      "Person 1 Step Count by Year\n",
      "               Count\n",
      "Date               \n",
      "2014-12-31   199813\n",
      "2015-12-31  3843685\n",
      "2016-12-31  5335886\n",
      "2017-12-31  5482973\n",
      "2018-12-31  5869950\n",
      "2019-12-31  6334428\n",
      "2020-12-31  4184766\n",
      "2021-12-31  3509835\n"
     ]
    }
   ],
   "source": [
    "YearlyStep_1 = person_1.groupby(pd.Grouper(key='Date',freq='Y')).sum()\n",
    "print(\"Person 1 Step Count by Year\\n\", YearlyStep_1.iloc[:,1::2])\n",
    "YearlyStep_2 = person_2.groupby(pd.Grouper(key='Date',freq='Y')).sum()\n",
    "print(\"Person 1 Step Count by Year\\n\", YearlyStep_2.iloc[:,1::2])"
   ]
  }
 ],
 "metadata": {
  "kernelspec": {
   "display_name": "Python 3",
   "language": "python",
   "name": "python3"
  },
  "language_info": {
   "codemirror_mode": {
    "name": "ipython",
    "version": 3
   },
   "file_extension": ".py",
   "mimetype": "text/x-python",
   "name": "python",
   "nbconvert_exporter": "python",
   "pygments_lexer": "ipython3",
   "version": "3.8.12"
  }
 },
 "nbformat": 4,
 "nbformat_minor": 4
}
