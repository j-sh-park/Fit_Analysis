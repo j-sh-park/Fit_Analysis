{
 "cells": [
  {
   "cell_type": "markdown",
   "metadata": {},
   "source": [
    "Import the pandas library into the python environment."
   ]
  },
  {
   "cell_type": "code",
   "execution_count": null,
   "metadata": {},
   "outputs": [],
   "source": [
    "import pandas as pd\n",
    "import matplotlib.pyplot as plt"
   ]
  },
  {
   "cell_type": "markdown",
   "metadata": {},
   "source": [
    "Load the two data files into the environment for further data analysis."
   ]
  },
  {
   "cell_type": "code",
   "execution_count": null,
   "metadata": {},
   "outputs": [],
   "source": [
    "person_1 = pd.read_csv('person1-step-data.csv')\n",
    "person_2 = pd.read_csv('person2-step-data.csv')"
   ]
  },
  {
   "cell_type": "markdown",
   "metadata": {},
   "source": [
    "Print the first person data set to see the file upload was successful."
   ]
  },
  {
   "cell_type": "code",
   "execution_count": null,
   "metadata": {},
   "outputs": [],
   "source": [
    "person_1"
   ]
  },
  {
   "cell_type": "markdown",
   "metadata": {},
   "source": [
    "Print the second person data set to see the file upload was successful."
   ]
  },
  {
   "cell_type": "code",
   "execution_count": null,
   "metadata": {},
   "outputs": [],
   "source": [
    "person_2"
   ]
  },
  {
   "cell_type": "markdown",
   "metadata": {},
   "source": [
    "Find out what data type each column is for each person, for easier data cleaning in future analysis."
   ]
  },
  {
   "cell_type": "code",
   "execution_count": null,
   "metadata": {},
   "outputs": [],
   "source": [
    "print(\"Person 1\\n\", person_1.dtypes)\n",
    "print(\"Person 2\\n\", person_2.dtypes)"
   ]
  },
  {
   "cell_type": "markdown",
   "metadata": {},
   "source": [
    "The data type for 'Source' is object, 'Date' is object, 'Hour' is int64, 'Count' is int64. Therefore, we need to change the date into a date-type for time-series data analysis."
   ]
  },
  {
   "cell_type": "code",
   "execution_count": null,
   "metadata": {},
   "outputs": [],
   "source": [
    "person_1['Date'] = pd.to_datetime(person_1['Date'])\n",
    "person_2['Date'] = pd.to_datetime(person_2['Date'])"
   ]
  },
  {
   "cell_type": "markdown",
   "metadata": {},
   "source": [
    "Check if the date data is converted to date format."
   ]
  },
  {
   "cell_type": "code",
   "execution_count": null,
   "metadata": {},
   "outputs": [],
   "source": [
    "print(\"Person 1\\n\", person_1.dtypes)\n",
    "print(\"Person 2\\n\", person_2.dtypes)"
   ]
  },
  {
   "cell_type": "markdown",
   "metadata": {},
   "source": [
    "Count the number of rows each data set has, to do some comparative analysis on both datasets."
   ]
  },
  {
   "cell_type": "code",
   "execution_count": null,
   "metadata": {},
   "outputs": [],
   "source": [
    "p1_rows = len(person_1.index)\n",
    "p2_rows = len(person_2.index)\n",
    "if p1_rows != p2_rows:\n",
    "    print(\"P1:{} and P2:{}\".format(p1_rows, p2_rows))\n",
    "    print(\"Row Variance: {}\".format(abs(p1_rows - p2_rows)))"
   ]
  },
  {
   "cell_type": "markdown",
   "metadata": {},
   "source": [
    "We can see that there is a large gap between both data sets. There is a 302,472 row variance between person 1 and person 2."
   ]
  },
  {
   "cell_type": "markdown",
   "metadata": {},
   "source": [
    "Check the fitness sources of each person."
   ]
  },
  {
   "cell_type": "code",
   "execution_count": null,
   "metadata": {},
   "outputs": [],
   "source": [
    "for x in person_1['Source'].unique():\n",
    "    print(x)\n",
    "print(\"\")\n",
    "for y in person_2['Source'].unique():\n",
    "    print(y)"
   ]
  },
  {
   "cell_type": "markdown",
   "metadata": {},
   "source": [
    "We can see further, that the source in the data for person 2 only lists two vague sources of data collection, but there are more specific sources of data collection for person 1."
   ]
  },
  {
   "cell_type": "markdown",
   "metadata": {},
   "source": [
    "Count and print the steps for each person using monthly step count sum and yearly step count sum."
   ]
  },
  {
   "cell_type": "code",
   "execution_count": null,
   "metadata": {},
   "outputs": [],
   "source": [
    "MonthlyStep_1 = person_1.groupby(pd.Grouper(key='Date',freq='M')).sum()\n",
    "print(\"Person 1 Step Count by Month\\n\", MonthlyStep_1.iloc[:,1::2])\n",
    "MonthlyStep_2 = person_2.groupby(pd.Grouper(key='Date',freq='M')).sum()\n",
    "print(\"Person 1 Step Count by Month\\n\", MonthlyStep_1.iloc[:,1::2])"
   ]
  },
  {
   "cell_type": "code",
   "execution_count": null,
   "metadata": {},
   "outputs": [],
   "source": [
    "YearlyStep_1 = person_1.groupby(pd.Grouper(key='Date',freq='Y')).sum()\n",
    "print(\"Person 1 Step Count by Year\\n\", YearlyStep_1.iloc[:,1::2])\n",
    "YearlyStep_2 = person_2.groupby(pd.Grouper(key='Date',freq='Y')).sum()\n",
    "print(\"Person 1 Step Count by Year\\n\", YearlyStep_2.iloc[:,1::2])"
   ]
  }
 ],
 "metadata": {
  "kernelspec": {
   "display_name": "Python 3",
   "language": "python",
   "name": "python3"
  },
  "language_info": {
   "codemirror_mode": {
    "name": "ipython",
    "version": 3
   },
   "file_extension": ".py",
   "mimetype": "text/x-python",
   "name": "python",
   "nbconvert_exporter": "python",
   "pygments_lexer": "ipython3",
   "version": "3.8.5"
  }
 },
 "nbformat": 4,
 "nbformat_minor": 4
}
