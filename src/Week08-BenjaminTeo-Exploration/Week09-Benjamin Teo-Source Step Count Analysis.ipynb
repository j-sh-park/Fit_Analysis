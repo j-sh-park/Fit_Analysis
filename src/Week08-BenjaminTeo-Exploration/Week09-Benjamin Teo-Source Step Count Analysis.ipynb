{
 "cells": [
  {
   "cell_type": "markdown",
   "metadata": {},
   "source": [
    "Import libraries for analysis."
   ]
  },
  {
   "cell_type": "code",
   "execution_count": null,
   "metadata": {},
   "outputs": [],
   "source": [
    "import pandas as pd\n",
    "import matplotlib.pyplot as plt"
   ]
  },
  {
   "cell_type": "markdown",
   "metadata": {},
   "source": [
    "Import the cleaned data set for analysis."
   ]
  },
  {
   "cell_type": "code",
   "execution_count": null,
   "metadata": {},
   "outputs": [],
   "source": [
    "person1 = pd.read_csv('person1_clean.csv')\n",
    "person2 = pd.read_csv('person2_clean.csv')"
   ]
  },
  {
   "cell_type": "markdown",
   "metadata": {},
   "source": [
    "Sort the data frame by sources first, then by date, then by hour.\n",
    "The reason for this step is so that the data frame is easier to view in terms of source because the purpose of this analysis is to determine the step count by the source type. "
   ]
  },
  {
   "cell_type": "code",
   "execution_count": null,
   "metadata": {},
   "outputs": [],
   "source": [
    "person1.sort_values(by=['Source', 'Date', 'Hour'])\n",
    "person2.sort_values(by=['Source', 'Date', 'Hour'])"
   ]
  },
  {
   "cell_type": "markdown",
   "metadata": {},
   "source": [
    "Convert all the dates into the date-time format because the plots below are time-series plots."
   ]
  },
  {
   "cell_type": "code",
   "execution_count": null,
   "metadata": {},
   "outputs": [],
   "source": [
    "person1['Date'] = pd.to_datetime(person1['Date'])\n",
    "person2['Date'] = pd.to_datetime(person2['Date'])"
   ]
  },
  {
   "cell_type": "markdown",
   "metadata": {},
   "source": [
    "Remove the 'Person1' and whitespace from all the source names."
   ]
  },
  {
   "cell_type": "code",
   "execution_count": null,
   "metadata": {},
   "outputs": [],
   "source": [
    "person1['Source'] = person1['Source'].str[8:]\n",
    "person1['Source'] = person1['Source'].str.strip()"
   ]
  },
  {
   "cell_type": "markdown",
   "metadata": {},
   "source": [
    "These next lines of code is to determine what sources person 1 and person 2 has in their respective data frames."
   ]
  },
  {
   "cell_type": "code",
   "execution_count": null,
   "metadata": {},
   "outputs": [],
   "source": [
    "print('Person 1 Sources')\n",
    "for x in person1['Source'].unique():\n",
    "    print(x)\n",
    "print(\"\")\n",
    "print('Person 2 Sources')\n",
    "for y in person2['Source'].unique():\n",
    "    print(y)"
   ]
  },
  {
   "cell_type": "markdown",
   "metadata": {},
   "source": [
    "Separating the person1 data frames into data frames that only contain the unique sources. "
   ]
  },
  {
   "cell_type": "code",
   "execution_count": null,
   "metadata": {},
   "outputs": [],
   "source": [
    "iphone = person1[person1['Source'] == 'iPhone SE']\n",
    "mifit = person1[person1['Source'] == 'Mi Fit']\n",
    "misfit = person1[person1['Source'] == 'Misfit']\n",
    "healthmate = person1[person1['Source'] == 'Health Mate']\n",
    "applewatch = person1[person1['Source'] == 'Apple Watch']"
   ]
  },
  {
   "cell_type": "markdown",
   "metadata": {},
   "source": [
    "Count the number of rows each source has."
   ]
  },
  {
   "cell_type": "code",
   "execution_count": null,
   "metadata": {},
   "outputs": [],
   "source": [
    "person1['Source'].value_counts()"
   ]
  },
  {
   "cell_type": "markdown",
   "metadata": {},
   "source": [
    "Create an aggregate data frame that lists the sum of step counts by the source type, and the day."
   ]
  },
  {
   "cell_type": "code",
   "execution_count": null,
   "metadata": {},
   "outputs": [],
   "source": [
    "source = person1.groupby(['Source','Date','Hour']).sum()\n",
    "source_list = source.reset_index()\n",
    "source_list"
   ]
  },
  {
   "cell_type": "markdown",
   "metadata": {},
   "source": [
    "Plotting the step count for all the iPhone SE data for person 1. \n",
    "Also printing the min and max step count collected by the iphone SE for person 1, and the dates which those min and max step counts occur.\n",
    "Calculate the start date for device data recording and end date for device data recording."
   ]
  },
  {
   "cell_type": "code",
   "execution_count": null,
   "metadata": {},
   "outputs": [],
   "source": [
    "date = iphone['Date']\n",
    "count = iphone['Count']\n",
    "plt.rcParams[\"figure.figsize\"] = (20,15)\n",
    "plt.plot_date(date, count, linestyle='solid')\n",
    "plt.title('iphone SE')\n",
    "plt.xlabel('Date')\n",
    "plt.ylabel('Step Count')\n",
    "print('Minimum steps:\\n', iphone.loc[iphone['Count'].idxmin()])\n",
    "print('\\nMaximum steps: \\n', iphone.loc[iphone['Count'].idxmax()])\n",
    "\n",
    "mindate_iphone = min(iphone['Date'])\n",
    "mindate_iphone = pd.to_datetime(mindate_iphone).date()\n",
    "maxdate_iphone = max(iphone['Date'])\n",
    "maxdate_iphone = pd.to_datetime(maxdate_iphone).date()"
   ]
  },
  {
   "cell_type": "markdown",
   "metadata": {},
   "source": [
    "Plotting the step count for all the Mi Fit data for person 1. \n",
    "Also printing the min and max step count collected by the Mi Fit for person 1, and the dates which those min and max step counts occur.\n",
    "Calculate the start date for device data recording and end date for device data recording."
   ]
  },
  {
   "cell_type": "code",
   "execution_count": null,
   "metadata": {},
   "outputs": [],
   "source": [
    "date = mifit['Date']\n",
    "count = mifit['Count']\n",
    "plt.rcParams[\"figure.figsize\"] = (20,15)\n",
    "plt.plot_date(date, count, linestyle='solid')\n",
    "plt.title('Mi Fit')\n",
    "plt.xlabel('Date')\n",
    "plt.ylabel('Step Count')\n",
    "print('Minimum steps:\\n', mifit.loc[mifit['Count'].idxmin()])\n",
    "print('\\nMaximum steps: \\n', mifit.loc[mifit['Count'].idxmax()])\n",
    "\n",
    "mindate_mifit = min(mifit['Date'])\n",
    "mindate_mifit = pd.to_datetime(mindate_mifit).date()\n",
    "maxdate_mifit = max(mifit['Date'])\n",
    "maxdate_mifit = pd.to_datetime(maxdate_mifit).date()"
   ]
  },
  {
   "cell_type": "markdown",
   "metadata": {},
   "source": [
    "Plotting the step count for all the MisFit data for person 1. \n",
    "Also printing the min and max step count collected by the MisFit for person 1, and the dates which those min and max step counts occur.\n",
    "Calculate the start date for device data recording and end date for device data recording."
   ]
  },
  {
   "cell_type": "code",
   "execution_count": null,
   "metadata": {},
   "outputs": [],
   "source": [
    "date = misfit['Date']\n",
    "count = misfit['Count']\n",
    "plt.rcParams[\"figure.figsize\"] = (20,15)\n",
    "plt.plot_date(date, count, linestyle='solid')\n",
    "plt.title('Mi Fit')\n",
    "plt.xlabel('Date')\n",
    "plt.ylabel('Step Count')\n",
    "print('Minimum steps:\\n', misfit.loc[misfit['Count'].idxmin()])\n",
    "print('\\nMaximum steps: \\n', misfit.loc[misfit['Count'].idxmax()])\n",
    "\n",
    "mindate_misfit = min(misfit['Date'])\n",
    "mindate_misfit = pd.to_datetime(mindate_misfit).date()\n",
    "maxdate_misfit = max(misfit['Date'])\n",
    "maxdate_misfit = pd.to_datetime(maxdate_misfit).date()"
   ]
  },
  {
   "cell_type": "markdown",
   "metadata": {},
   "source": [
    "Plotting the step count for all the Health Mate data for person 1. \n",
    "Also printing the min and max step count collected by the Health Mate for person 1, and the dates which those min and max step counts occur.\n",
    "Calculate the start date for device data recording and end date for device data recording."
   ]
  },
  {
   "cell_type": "code",
   "execution_count": null,
   "metadata": {},
   "outputs": [],
   "source": [
    "date = healthmate['Date']\n",
    "count = healthmate['Count']\n",
    "plt.rcParams[\"figure.figsize\"] = (20,15)\n",
    "plt.plot_date(date, count, linestyle='solid')\n",
    "plt.title('Mi Fit')\n",
    "plt.xlabel('Date')\n",
    "plt.ylabel('Step Count')\n",
    "print('Minimum steps:\\n', healthmate.loc[healthmate['Count'].idxmin()])\n",
    "print('\\nMaximum steps: \\n', healthmate.loc[healthmate['Count'].idxmax()])\n",
    "\n",
    "mindate_healthmate = min(healthmate['Date'])\n",
    "mindate_healthmate = pd.to_datetime(mindate_healthmate).date()\n",
    "maxdate_healthmate = max(healthmate['Date'])\n",
    "maxdate_healthmate = pd.to_datetime(maxdate_healthmate).date()"
   ]
  },
  {
   "cell_type": "markdown",
   "metadata": {},
   "source": [
    "Print all the start dates for each device where data is recorded and the end dates for each device where data is recorded."
   ]
  },
  {
   "cell_type": "code",
   "execution_count": 63,
   "metadata": {},
   "outputs": [
    {
     "name": "stdout",
     "output_type": "stream",
     "text": [
      "iPhone SE \tstart date: 2014-12-07, end date 2021-09-22\n",
      "\n",
      "Health Mate \tstart date: 2015-05-22, end date 2018-09-13\n",
      "\n",
      "MiFit \t\tstart date: 2016-03-06, end date 2018-04-15\n",
      "\n",
      "MisFit \t\tstart date: 2018-11-15, end date 2019-05-15\n"
     ]
    }
   ],
   "source": [
    "print('iPhone SE \\tstart date: {}, end date {}'.format(mindate_iphone, maxdate_iphone))\n",
    "print('\\nHealth Mate \\tstart date: {}, end date {}'.format(mindate_healthmate, maxdate_healthmate))\n",
    "print('\\nMiFit \\t\\tstart date: {}, end date {}'.format(mindate_mifit, maxdate_mifit))\n",
    "print('\\nMisFit \\t\\tstart date: {}, end date {}'.format(mindate_misfit, maxdate_misfit))"
   ]
  }
 ],
 "metadata": {
  "kernelspec": {
   "display_name": "Python 3",
   "language": "python",
   "name": "python3"
  },
  "language_info": {
   "codemirror_mode": {
    "name": "ipython",
    "version": 3
   },
   "file_extension": ".py",
   "mimetype": "text/x-python",
   "name": "python",
   "nbconvert_exporter": "python",
   "pygments_lexer": "ipython3",
   "version": "3.8.3"
  }
 },
 "nbformat": 4,
 "nbformat_minor": 4
}
