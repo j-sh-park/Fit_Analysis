{
 "cells": [
  {
   "cell_type": "markdown",
   "id": "growing-gregory",
   "metadata": {},
   "source": [
    "## This notebook contains the initial data analyses of assignment 2. The purpose of the following analyses is largely exploratory."
   ]
  },
  {
   "cell_type": "code",
   "execution_count": 2,
   "id": "behind-printer",
   "metadata": {},
   "outputs": [],
   "source": [
    "#import libraries we'll be using\n",
    "import pandas as pd\n",
    "import matplotlib.pyplot as plt"
   ]
  },
  {
   "cell_type": "code",
   "execution_count": 3,
   "id": "specialized-entertainment",
   "metadata": {},
   "outputs": [],
   "source": [
    "#import data sets\n",
    "person1 = pd.read_csv('person1-step-data.csv')\n",
    "person2 = pd.read_csv('person2-step-data.csv')"
   ]
  },
  {
   "cell_type": "code",
   "execution_count": 4,
   "id": "adverse-security",
   "metadata": {},
   "outputs": [],
   "source": [
    "#drop na values\n",
    "df1 = person1.dropna()\n",
    "df2 = person2.dropna()"
   ]
  },
  {
   "cell_type": "code",
   "execution_count": 5,
   "id": "eligible-batman",
   "metadata": {},
   "outputs": [],
   "source": [
    "#we'll change the data type of the Date column to a datetime data type so that we can perform time sensitive analyses later on.\n",
    "df1['Date'] = pd.to_datetime(df1['Date'])\n",
    "df2['Date'] = pd.to_datetime(df2['Date'])"
   ]
  },
  {
   "cell_type": "code",
   "execution_count": 6,
   "id": "removed-transmission",
   "metadata": {},
   "outputs": [
    {
     "name": "stdout",
     "output_type": "stream",
     "text": [
      "Person1 iPhone SE\n",
      "Person1 Mi Fit\n",
      "Person1 Misfit\n",
      "Person1 Health Mate\n",
      "Person1 Apple Watch\n",
      "Person2 Phone\n",
      "Person2 Watch\n"
     ]
    }
   ],
   "source": [
    "#get unique values for Source variable for both data sets\n",
    "for i in df1['Source'].unique():\n",
    "    print(i)\n",
    "for i in df2['Source'].unique():\n",
    "    print(i)"
   ]
  },
  {
   "cell_type": "code",
   "execution_count": 9,
   "id": "tracked-grocery",
   "metadata": {},
   "outputs": [
    {
     "name": "stdout",
     "output_type": "stream",
     "text": [
      "2295\n",
      "2490\n"
     ]
    }
   ],
   "source": [
    "print(len(df1['Date'].unique()))\n",
    "print(len(df2['Date'].unique()))"
   ]
  },
  {
   "cell_type": "code",
   "execution_count": 10,
   "id": "upper-recipient",
   "metadata": {},
   "outputs": [
    {
     "data": {
      "text/plain": [
       "pandas._libs.tslibs.timestamps.Timestamp"
      ]
     },
     "execution_count": 10,
     "metadata": {},
     "output_type": "execute_result"
    }
   ],
   "source": [
    "type(df1['Date'][1])"
   ]
  },
  {
   "cell_type": "code",
   "execution_count": 18,
   "id": "assumed-clock",
   "metadata": {},
   "outputs": [
    {
     "data": {
      "text/html": [
       "<div>\n",
       "<style scoped>\n",
       "    .dataframe tbody tr th:only-of-type {\n",
       "        vertical-align: middle;\n",
       "    }\n",
       "\n",
       "    .dataframe tbody tr th {\n",
       "        vertical-align: top;\n",
       "    }\n",
       "\n",
       "    .dataframe thead th {\n",
       "        text-align: right;\n",
       "    }\n",
       "</style>\n",
       "<table border=\"1\" class=\"dataframe\">\n",
       "  <thead>\n",
       "    <tr style=\"text-align: right;\">\n",
       "      <th></th>\n",
       "      <th>Source</th>\n",
       "      <th>Date</th>\n",
       "      <th>Hour</th>\n",
       "      <th>Count</th>\n",
       "      <th>Day of the Week</th>\n",
       "    </tr>\n",
       "  </thead>\n",
       "  <tbody>\n",
       "    <tr>\n",
       "      <th>0</th>\n",
       "      <td>Person2 Phone</td>\n",
       "      <td>2014-11-29</td>\n",
       "      <td>6</td>\n",
       "      <td>6</td>\n",
       "      <td>5</td>\n",
       "    </tr>\n",
       "    <tr>\n",
       "      <th>1</th>\n",
       "      <td>Person2 Phone</td>\n",
       "      <td>2014-11-29</td>\n",
       "      <td>6</td>\n",
       "      <td>4</td>\n",
       "      <td>5</td>\n",
       "    </tr>\n",
       "    <tr>\n",
       "      <th>2</th>\n",
       "      <td>Person2 Phone</td>\n",
       "      <td>2014-11-29</td>\n",
       "      <td>6</td>\n",
       "      <td>3</td>\n",
       "      <td>5</td>\n",
       "    </tr>\n",
       "    <tr>\n",
       "      <th>3</th>\n",
       "      <td>Person2 Phone</td>\n",
       "      <td>2014-11-29</td>\n",
       "      <td>6</td>\n",
       "      <td>9</td>\n",
       "      <td>5</td>\n",
       "    </tr>\n",
       "    <tr>\n",
       "      <th>4</th>\n",
       "      <td>Person2 Phone</td>\n",
       "      <td>2014-11-29</td>\n",
       "      <td>6</td>\n",
       "      <td>6</td>\n",
       "      <td>5</td>\n",
       "    </tr>\n",
       "    <tr>\n",
       "      <th>...</th>\n",
       "      <td>...</td>\n",
       "      <td>...</td>\n",
       "      <td>...</td>\n",
       "      <td>...</td>\n",
       "      <td>...</td>\n",
       "    </tr>\n",
       "    <tr>\n",
       "      <th>486254</th>\n",
       "      <td>Person2 Watch</td>\n",
       "      <td>2021-09-22</td>\n",
       "      <td>14</td>\n",
       "      <td>71</td>\n",
       "      <td>2</td>\n",
       "    </tr>\n",
       "    <tr>\n",
       "      <th>486255</th>\n",
       "      <td>Person2 Phone</td>\n",
       "      <td>2021-09-22</td>\n",
       "      <td>14</td>\n",
       "      <td>72</td>\n",
       "      <td>2</td>\n",
       "    </tr>\n",
       "    <tr>\n",
       "      <th>486256</th>\n",
       "      <td>Person2 Phone</td>\n",
       "      <td>2021-09-22</td>\n",
       "      <td>15</td>\n",
       "      <td>78</td>\n",
       "      <td>2</td>\n",
       "    </tr>\n",
       "    <tr>\n",
       "      <th>486257</th>\n",
       "      <td>Person2 Watch</td>\n",
       "      <td>2021-09-22</td>\n",
       "      <td>15</td>\n",
       "      <td>32</td>\n",
       "      <td>2</td>\n",
       "    </tr>\n",
       "    <tr>\n",
       "      <th>486258</th>\n",
       "      <td>Person2 Watch</td>\n",
       "      <td>2021-09-22</td>\n",
       "      <td>15</td>\n",
       "      <td>22</td>\n",
       "      <td>2</td>\n",
       "    </tr>\n",
       "  </tbody>\n",
       "</table>\n",
       "<p>486259 rows × 5 columns</p>\n",
       "</div>"
      ],
      "text/plain": [
       "               Source       Date  Hour  Count  Day of the Week\n",
       "0       Person2 Phone 2014-11-29     6      6                5\n",
       "1       Person2 Phone 2014-11-29     6      4                5\n",
       "2       Person2 Phone 2014-11-29     6      3                5\n",
       "3       Person2 Phone 2014-11-29     6      9                5\n",
       "4       Person2 Phone 2014-11-29     6      6                5\n",
       "...               ...        ...   ...    ...              ...\n",
       "486254  Person2 Watch 2021-09-22    14     71                2\n",
       "486255  Person2 Phone 2021-09-22    14     72                2\n",
       "486256  Person2 Phone 2021-09-22    15     78                2\n",
       "486257  Person2 Watch 2021-09-22    15     32                2\n",
       "486258  Person2 Watch 2021-09-22    15     22                2\n",
       "\n",
       "[486259 rows x 5 columns]"
      ]
     },
     "execution_count": 18,
     "metadata": {},
     "output_type": "execute_result"
    }
   ],
   "source": [
    "#create a new collumn for both data sets that symbolises day of the week\n",
    "df1['Day of the Week'] = df1['Date'].dt.weekday\n",
    "df2['Day of the Week'] = df2['Date'].dt.weekday"
   ]
  },
  {
   "cell_type": "code",
   "execution_count": 19,
   "id": "mature-tampa",
   "metadata": {},
   "outputs": [
    {
     "data": {
      "text/plain": [
       "(array([27142., 25815.,     0., 26503.,     0., 27535., 28354.,     0.,\n",
       "        24328., 24110.]),\n",
       " array([0. , 0.6, 1.2, 1.8, 2.4, 3. , 3.6, 4.2, 4.8, 5.4, 6. ]),\n",
       " <BarContainer object of 10 artists>)"
      ]
     },
     "execution_count": 19,
     "metadata": {},
     "output_type": "execute_result"
    },
    {
     "data": {
      "image/png": "[encoded data removed]",
      "text/plain": [
       "<Figure size 432x288 with 1 Axes>"
      ]
     },
     "metadata": {
      "needs_background": "light"
     },
     "output_type": "display_data"
    }
   ],
   "source": [
    "#person1 day of the weeks histogram\n",
    "plt.hist(df1['Day of the Week'])"
   ]
  },
  {
   "cell_type": "code",
   "execution_count": 20,
   "id": "damaged-texture",
   "metadata": {},
   "outputs": [
    {
     "data": {
      "text/plain": [
       "(array([67050., 69027.,     0., 71744.,     0., 70374., 78795.,     0.,\n",
       "        57330., 71939.]),\n",
       " array([0. , 0.6, 1.2, 1.8, 2.4, 3. , 3.6, 4.2, 4.8, 5.4, 6. ]),\n",
       " <BarContainer object of 10 artists>)"
      ]
     },
     "execution_count": 20,
     "metadata": {},
     "output_type": "execute_result"
    },
    {
     "data": {
      "image/png": "[encoded data removed]",
      "text/plain": [
       "<Figure size 432x288 with 1 Axes>"
      ]
     },
     "metadata": {
      "needs_background": "light"
     },
     "output_type": "display_data"
    }
   ],
   "source": [
    "#person2 day of the weeks histogram\n",
    "plt.hist(df2['Day of the Week'])"
   ]
  },
  {
   "cell_type": "code",
   "execution_count": 39,
   "id": "retired-shopping",
   "metadata": {},
   "outputs": [
    {
     "name": "stdout",
     "output_type": "stream",
     "text": [
      "74.55710706653895    17.0\n",
      "79.40658531861321    17.0\n",
      "79.16417009395163    18.0\n",
      "86.85868894134738    17.0\n",
      "77.488361430486    17.0\n",
      "72.09840512989149    17.0\n",
      "89.18639568643717    18.0\n"
     ]
    }
   ],
   "source": [
    "gdf1 = df1.groupby('Day of the Week')\n",
    "for i in range(7):\n",
    "    print(gdf1.get_group(i)['Count'].mean(), \"  \", gdf1.get_group(i)['Count'].median())"
   ]
  },
  {
   "cell_type": "code",
   "execution_count": 38,
   "id": "revised-terry",
   "metadata": {},
   "outputs": [
    {
     "name": "stdout",
     "output_type": "stream",
     "text": [
      "69.4503057419836    29.0\n",
      "75.31519550320888    32.0\n",
      "68.71656166369313    29.0\n",
      "72.4506635973513    33.0\n",
      "64.1401738689003    28.0\n",
      "72.60556427699285    30.0\n",
      "78.6897927410723    36.0\n"
     ]
    }
   ],
   "source": [
    "gdf2 = df2.groupby('Day of the Week')\n",
    "for i in range(7):\n",
    "    print(gdf2.get_group(i)['Count'].mean(), \"  \", gdf2.get_group(i)['Count'].median())"
   ]
  },
  {
   "cell_type": "code",
   "execution_count": 66,
   "id": "important-kelly",
   "metadata": {},
   "outputs": [
    {
     "data": {
      "text/plain": [
       "<Figure size 576x216 with 0 Axes>"
      ]
     },
     "metadata": {},
     "output_type": "display_data"
    },
    {
     "data": {
      "image/png": "[encoded data removed]",
      "text/plain": [
       "<Figure size 432x288 with 7 Axes>"
      ]
     },
     "metadata": {
      "needs_background": "light"
     },
     "output_type": "display_data"
    }
   ],
   "source": [
    "fig = plt.figure(figsize = (8,3))\n",
    "fig, (ax0, ax1, ax2, ax3, ax4, ax5, ax6) = plt.subplots(1, 7, sharey=True)\n",
    "ax0.rect = [5,5,55,150]\n",
    "ax0.boxplot(gdf1.get_group(0)['Count'], showfliers=False)\n",
    "ax1.boxplot(gdf1.get_group(1)['Count'], showfliers=False)\n",
    "ax2.boxplot(gdf1.get_group(2)['Count'], showfliers=False)\n",
    "ax3.boxplot(gdf1.get_group(3)['Count'], showfliers=False)\n",
    "ax4.boxplot(gdf1.get_group(4)['Count'], showfliers=False)\n",
    "ax5.boxplot(gdf1.get_group(5)['Count'], showfliers=False)\n",
    "ax6.boxplot(gdf1.get_group(6)['Count'], showfliers=False)\n",
    "plt.savefig(\"person1 count grouped by days boxplot.png\")"
   ]
  },
  {
   "cell_type": "code",
   "execution_count": null,
   "id": "completed-accreditation",
   "metadata": {},
   "outputs": [],
   "source": []
  }
 ],
 "metadata": {
  "kernelspec": {
   "display_name": "Python 3",
   "language": "python",
   "name": "python3"
  },
  "language_info": {
   "codemirror_mode": {
    "name": "ipython",
    "version": 3
   },
   "file_extension": ".py",
   "mimetype": "text/x-python",
   "name": "python",
   "nbconvert_exporter": "python",
   "pygments_lexer": "ipython3",
   "version": "3.8.5"
  }
 },
 "nbformat": 4,
 "nbformat_minor": 5
}
